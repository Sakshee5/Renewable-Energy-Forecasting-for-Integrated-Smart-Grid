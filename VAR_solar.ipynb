{
 "cells": [
  {
   "cell_type": "code",
   "execution_count": 148,
   "metadata": {
    "colab": {
     "base_uri": "https://localhost:8080/",
     "height": 34
    },
    "colab_type": "code",
    "id": "wlvClBQpDGno",
    "outputId": "b53e128f-87f4-4f40-d3b8-2f0fb6f8de71"
   },
   "outputs": [],
   "source": [
    "import pandas as pd\n",
    "import numpy as np\n",
    "import matplotlib.pyplot as plt\n",
    "%matplotlib inline\n",
    "\n",
    "from statsmodels.tsa.api import VAR\n",
    "from statsmodels.tsa.stattools import adfuller\n",
    "from statsmodels.tools.eval_measures import rmse, aic"
   ]
  },
  {
   "cell_type": "code",
   "execution_count": 149,
   "metadata": {
    "colab": {},
    "colab_type": "code",
    "id": "1fNMEUVoDxG3"
   },
   "outputs": [],
   "source": [
    "data = pd.read_csv(r'C:/Users/Sakshee/Downloads/AustriaNew.csv')"
   ]
  },
  {
   "cell_type": "code",
   "execution_count": 150,
   "metadata": {
    "colab": {
     "base_uri": "https://localhost:8080/",
     "height": 241
    },
    "colab_type": "code",
    "id": "7GKU0c3qDxRP",
    "outputId": "a5b296a7-2114-4b63-f3e5-64f62caa3c5a"
   },
   "outputs": [
    {
     "data": {
      "text/html": [
       "<div>\n",
       "<style scoped>\n",
       "    .dataframe tbody tr th:only-of-type {\n",
       "        vertical-align: middle;\n",
       "    }\n",
       "\n",
       "    .dataframe tbody tr th {\n",
       "        vertical-align: top;\n",
       "    }\n",
       "\n",
       "    .dataframe thead th {\n",
       "        text-align: right;\n",
       "    }\n",
       "</style>\n",
       "<table border=\"1\" class=\"dataframe\">\n",
       "  <thead>\n",
       "    <tr style=\"text-align: right;\">\n",
       "      <th></th>\n",
       "      <th>Unnamed: 0</th>\n",
       "      <th>index</th>\n",
       "      <th>AT_load_actual_entsoe_power_statistics</th>\n",
       "      <th>AT_load_actual_entsoe_transparency</th>\n",
       "      <th>AT_price_day_ahead</th>\n",
       "      <th>AT_solar_generation_actual</th>\n",
       "      <th>AT_wind_onshore_generation_actual</th>\n",
       "      <th>AT_windspeed_10m</th>\n",
       "      <th>AT_temperature</th>\n",
       "      <th>AT_radiation_direct_horizontal</th>\n",
       "      <th>AT_radiation_diffuse_horizontal</th>\n",
       "    </tr>\n",
       "  </thead>\n",
       "  <tbody>\n",
       "    <tr>\n",
       "      <th>0</th>\n",
       "      <td>0</td>\n",
       "      <td>87656</td>\n",
       "      <td>7035.0</td>\n",
       "      <td>6343.0</td>\n",
       "      <td>36.0</td>\n",
       "      <td>2.0</td>\n",
       "      <td>109.0</td>\n",
       "      <td>3.27</td>\n",
       "      <td>-4.179</td>\n",
       "      <td>1.5614</td>\n",
       "      <td>25.9639</td>\n",
       "    </tr>\n",
       "    <tr>\n",
       "      <th>1</th>\n",
       "      <td>1</td>\n",
       "      <td>87657</td>\n",
       "      <td>7394.0</td>\n",
       "      <td>6882.0</td>\n",
       "      <td>41.0</td>\n",
       "      <td>10.0</td>\n",
       "      <td>146.0</td>\n",
       "      <td>3.23</td>\n",
       "      <td>-2.807</td>\n",
       "      <td>7.5467</td>\n",
       "      <td>75.0443</td>\n",
       "    </tr>\n",
       "    <tr>\n",
       "      <th>2</th>\n",
       "      <td>2</td>\n",
       "      <td>87658</td>\n",
       "      <td>7770.0</td>\n",
       "      <td>6963.0</td>\n",
       "      <td>45.0</td>\n",
       "      <td>21.0</td>\n",
       "      <td>146.0</td>\n",
       "      <td>3.22</td>\n",
       "      <td>-1.315</td>\n",
       "      <td>17.2073</td>\n",
       "      <td>116.9171</td>\n",
       "    </tr>\n",
       "    <tr>\n",
       "      <th>3</th>\n",
       "      <td>3</td>\n",
       "      <td>87659</td>\n",
       "      <td>7820.0</td>\n",
       "      <td>7110.0</td>\n",
       "      <td>50.0</td>\n",
       "      <td>32.0</td>\n",
       "      <td>158.0</td>\n",
       "      <td>3.22</td>\n",
       "      <td>-0.051</td>\n",
       "      <td>35.4289</td>\n",
       "      <td>146.8923</td>\n",
       "    </tr>\n",
       "    <tr>\n",
       "      <th>4</th>\n",
       "      <td>4</td>\n",
       "      <td>87660</td>\n",
       "      <td>7694.0</td>\n",
       "      <td>7136.0</td>\n",
       "      <td>51.0</td>\n",
       "      <td>37.0</td>\n",
       "      <td>187.0</td>\n",
       "      <td>3.00</td>\n",
       "      <td>0.791</td>\n",
       "      <td>58.5238</td>\n",
       "      <td>151.4721</td>\n",
       "    </tr>\n",
       "  </tbody>\n",
       "</table>\n",
       "</div>"
      ],
      "text/plain": [
       "   Unnamed: 0  index  AT_load_actual_entsoe_power_statistics  \\\n",
       "0           0  87656                                  7035.0   \n",
       "1           1  87657                                  7394.0   \n",
       "2           2  87658                                  7770.0   \n",
       "3           3  87659                                  7820.0   \n",
       "4           4  87660                                  7694.0   \n",
       "\n",
       "   AT_load_actual_entsoe_transparency  AT_price_day_ahead  \\\n",
       "0                              6343.0                36.0   \n",
       "1                              6882.0                41.0   \n",
       "2                              6963.0                45.0   \n",
       "3                              7110.0                50.0   \n",
       "4                              7136.0                51.0   \n",
       "\n",
       "   AT_solar_generation_actual  AT_wind_onshore_generation_actual  \\\n",
       "0                         2.0                              109.0   \n",
       "1                        10.0                              146.0   \n",
       "2                        21.0                              146.0   \n",
       "3                        32.0                              158.0   \n",
       "4                        37.0                              187.0   \n",
       "\n",
       "   AT_windspeed_10m  AT_temperature  AT_radiation_direct_horizontal  \\\n",
       "0              3.27          -4.179                          1.5614   \n",
       "1              3.23          -2.807                          7.5467   \n",
       "2              3.22          -1.315                         17.2073   \n",
       "3              3.22          -0.051                         35.4289   \n",
       "4              3.00           0.791                         58.5238   \n",
       "\n",
       "   AT_radiation_diffuse_horizontal  \n",
       "0                          25.9639  \n",
       "1                          75.0443  \n",
       "2                         116.9171  \n",
       "3                         146.8923  \n",
       "4                         151.4721  "
      ]
     },
     "execution_count": 150,
     "metadata": {},
     "output_type": "execute_result"
    }
   ],
   "source": [
    "data.head()"
   ]
  },
  {
   "cell_type": "code",
   "execution_count": 151,
   "metadata": {
    "colab": {
     "base_uri": "https://localhost:8080/",
     "height": 34
    },
    "colab_type": "code",
    "id": "HR1ixGuFDxao",
    "outputId": "a3977232-a2ab-4981-82fc-6412b4454453"
   },
   "outputs": [
    {
     "data": {
      "text/plain": [
       "(17488, 11)"
      ]
     },
     "execution_count": 151,
     "metadata": {},
     "output_type": "execute_result"
    }
   ],
   "source": [
    "data.shape"
   ]
  },
  {
   "cell_type": "code",
   "execution_count": 152,
   "metadata": {
    "colab": {
     "base_uri": "https://localhost:8080/",
     "height": 306
    },
    "colab_type": "code",
    "id": "3j_HQNqTth8d",
    "outputId": "27719ee2-ab05-4c12-ab9f-217d34f53790"
   },
   "outputs": [
    {
     "data": {
      "text/html": [
       "<div>\n",
       "<style scoped>\n",
       "    .dataframe tbody tr th:only-of-type {\n",
       "        vertical-align: middle;\n",
       "    }\n",
       "\n",
       "    .dataframe tbody tr th {\n",
       "        vertical-align: top;\n",
       "    }\n",
       "\n",
       "    .dataframe thead th {\n",
       "        text-align: right;\n",
       "    }\n",
       "</style>\n",
       "<table border=\"1\" class=\"dataframe\">\n",
       "  <thead>\n",
       "    <tr style=\"text-align: right;\">\n",
       "      <th></th>\n",
       "      <th>AT_solar_generation_actual</th>\n",
       "      <th>AT_windspeed_10m</th>\n",
       "      <th>AT_temperature</th>\n",
       "      <th>AT_radiation_direct_horizontal</th>\n",
       "      <th>AT_radiation_diffuse_horizontal</th>\n",
       "    </tr>\n",
       "  </thead>\n",
       "  <tbody>\n",
       "    <tr>\n",
       "      <th>0</th>\n",
       "      <td>2.0</td>\n",
       "      <td>3.27</td>\n",
       "      <td>-4.179</td>\n",
       "      <td>1.5614</td>\n",
       "      <td>25.9639</td>\n",
       "    </tr>\n",
       "    <tr>\n",
       "      <th>1</th>\n",
       "      <td>10.0</td>\n",
       "      <td>3.23</td>\n",
       "      <td>-2.807</td>\n",
       "      <td>7.5467</td>\n",
       "      <td>75.0443</td>\n",
       "    </tr>\n",
       "    <tr>\n",
       "      <th>2</th>\n",
       "      <td>21.0</td>\n",
       "      <td>3.22</td>\n",
       "      <td>-1.315</td>\n",
       "      <td>17.2073</td>\n",
       "      <td>116.9171</td>\n",
       "    </tr>\n",
       "    <tr>\n",
       "      <th>3</th>\n",
       "      <td>32.0</td>\n",
       "      <td>3.22</td>\n",
       "      <td>-0.051</td>\n",
       "      <td>35.4289</td>\n",
       "      <td>146.8923</td>\n",
       "    </tr>\n",
       "    <tr>\n",
       "      <th>4</th>\n",
       "      <td>37.0</td>\n",
       "      <td>3.00</td>\n",
       "      <td>0.791</td>\n",
       "      <td>58.5238</td>\n",
       "      <td>151.4721</td>\n",
       "    </tr>\n",
       "  </tbody>\n",
       "</table>\n",
       "</div>"
      ],
      "text/plain": [
       "   AT_solar_generation_actual  AT_windspeed_10m  AT_temperature  \\\n",
       "0                         2.0              3.27          -4.179   \n",
       "1                        10.0              3.23          -2.807   \n",
       "2                        21.0              3.22          -1.315   \n",
       "3                        32.0              3.22          -0.051   \n",
       "4                        37.0              3.00           0.791   \n",
       "\n",
       "   AT_radiation_direct_horizontal  AT_radiation_diffuse_horizontal  \n",
       "0                          1.5614                          25.9639  \n",
       "1                          7.5467                          75.0443  \n",
       "2                         17.2073                         116.9171  \n",
       "3                         35.4289                         146.8923  \n",
       "4                         58.5238                         151.4721  "
      ]
     },
     "execution_count": 152,
     "metadata": {},
     "output_type": "execute_result"
    }
   ],
   "source": [
    "Solar=data[['AT_solar_generation_actual', 'AT_windspeed_10m', 'AT_temperature', 'AT_radiation_direct_horizontal', 'AT_radiation_diffuse_horizontal']]\n",
    "Solar.head()"
   ]
  },
  {
   "cell_type": "code",
   "execution_count": 153,
   "metadata": {
    "colab": {},
    "colab_type": "code",
    "id": "2L_xc466MO3z"
   },
   "outputs": [
    {
     "data": {
      "text/html": [
       "<div>\n",
       "<style scoped>\n",
       "    .dataframe tbody tr th:only-of-type {\n",
       "        vertical-align: middle;\n",
       "    }\n",
       "\n",
       "    .dataframe tbody tr th {\n",
       "        vertical-align: top;\n",
       "    }\n",
       "\n",
       "    .dataframe thead th {\n",
       "        text-align: right;\n",
       "    }\n",
       "</style>\n",
       "<table border=\"1\" class=\"dataframe\">\n",
       "  <thead>\n",
       "    <tr style=\"text-align: right;\">\n",
       "      <th></th>\n",
       "      <th>AT_solar_generation_actual</th>\n",
       "      <th>AT_windspeed_10m</th>\n",
       "      <th>AT_temperature</th>\n",
       "      <th>AT_radiation_direct_horizontal</th>\n",
       "      <th>AT_radiation_diffuse_horizontal</th>\n",
       "    </tr>\n",
       "  </thead>\n",
       "  <tbody>\n",
       "    <tr>\n",
       "      <th>0</th>\n",
       "      <td>0.003279</td>\n",
       "      <td>0.285083</td>\n",
       "      <td>0.178747</td>\n",
       "      <td>0.001814</td>\n",
       "      <td>0.064377</td>\n",
       "    </tr>\n",
       "    <tr>\n",
       "      <th>1</th>\n",
       "      <td>0.016393</td>\n",
       "      <td>0.280663</td>\n",
       "      <td>0.209402</td>\n",
       "      <td>0.008767</td>\n",
       "      <td>0.186070</td>\n",
       "    </tr>\n",
       "    <tr>\n",
       "      <th>2</th>\n",
       "      <td>0.034426</td>\n",
       "      <td>0.279558</td>\n",
       "      <td>0.242738</td>\n",
       "      <td>0.019991</td>\n",
       "      <td>0.289892</td>\n",
       "    </tr>\n",
       "    <tr>\n",
       "      <th>3</th>\n",
       "      <td>0.052459</td>\n",
       "      <td>0.279558</td>\n",
       "      <td>0.270980</td>\n",
       "      <td>0.041160</td>\n",
       "      <td>0.364214</td>\n",
       "    </tr>\n",
       "    <tr>\n",
       "      <th>4</th>\n",
       "      <td>0.060656</td>\n",
       "      <td>0.255249</td>\n",
       "      <td>0.289794</td>\n",
       "      <td>0.067990</td>\n",
       "      <td>0.375570</td>\n",
       "    </tr>\n",
       "  </tbody>\n",
       "</table>\n",
       "</div>"
      ],
      "text/plain": [
       "   AT_solar_generation_actual  AT_windspeed_10m  AT_temperature  \\\n",
       "0                    0.003279          0.285083        0.178747   \n",
       "1                    0.016393          0.280663        0.209402   \n",
       "2                    0.034426          0.279558        0.242738   \n",
       "3                    0.052459          0.279558        0.270980   \n",
       "4                    0.060656          0.255249        0.289794   \n",
       "\n",
       "   AT_radiation_direct_horizontal  AT_radiation_diffuse_horizontal  \n",
       "0                        0.001814                         0.064377  \n",
       "1                        0.008767                         0.186070  \n",
       "2                        0.019991                         0.289892  \n",
       "3                        0.041160                         0.364214  \n",
       "4                        0.067990                         0.375570  "
      ]
     },
     "execution_count": 153,
     "metadata": {},
     "output_type": "execute_result"
    }
   ],
   "source": [
    "from sklearn.preprocessing import MinMaxScaler\n",
    "scaler = MinMaxScaler(feature_range=(0,1))\n",
    "solarScaled = scaler.fit_transform(Solar.values)\n",
    "solarScaled = pd.DataFrame(solarScaled, columns = Solar.columns)\n",
    "\n",
    "solarScaled.head()"
   ]
  },
  {
   "cell_type": "code",
   "execution_count": 155,
   "metadata": {},
   "outputs": [
    {
     "name": "stdout",
     "output_type": "stream",
     "text": [
      "Name   ::  Test Stat > C(95%)    =>   Signif  \n",
      " ----------------------------------------\n",
      "AT_solar_generation_actual ::  5802.32   > 60.0627   =>   True\n",
      "AT_windspeed_10m ::  2966.65   > 40.1749   =>   True\n",
      "AT_temperature ::  1486.69   > 24.2761   =>   True\n",
      "AT_radiation_direct_horizontal ::  249.37    > 12.3212   =>   True\n",
      "AT_radiation_diffuse_horizontal ::  4.67      > 4.1296    =>   True\n"
     ]
    }
   ],
   "source": [
    "from statsmodels.tsa.vector_ar.vecm import coint_johansen\n",
    "\n",
    "def cointegration_test(df, alpha=0.05): \n",
    "    out = coint_johansen(df,-1,5)\n",
    "    d = {'0.90':0, '0.95':1, '0.99':2}\n",
    "    traces = out.lr1\n",
    "    cvts = out.cvt[:, d[str(1-alpha)]]\n",
    "    \n",
    "    def adjust(val, length= 6): return str(val).ljust(length)\n",
    "\n",
    "    # Summary\n",
    "    print('Name   ::  Test Stat > C(95%)    =>   Signif  \\n', '--'*20)\n",
    "    for col, trace, cvt in zip(df.columns, traces, cvts):\n",
    "        print(adjust(col), ':: ', adjust(round(trace,2), 9), \">\", adjust(cvt, 8), ' =>  ' , trace > cvt)\n",
    "\n",
    "cointegration_test(solarScaled)"
   ]
  },
  {
   "cell_type": "code",
   "execution_count": 156,
   "metadata": {},
   "outputs": [
    {
     "name": "stdout",
     "output_type": "stream",
     "text": [
      "(13990, 5)\n",
      "(3498, 5)\n"
     ]
    }
   ],
   "source": [
    "nobs = 3498\n",
    "df_train, df_test = solarScaled[0:-nobs], solarScaled[-nobs:]\n",
    "\n",
    "print(df_train.shape)  \n",
    "print(df_test.shape) "
   ]
  },
  {
   "cell_type": "code",
   "execution_count": 157,
   "metadata": {},
   "outputs": [],
   "source": [
    "def adfuller_test(series, signif=0.05, name='', verbose=False):\n",
    "    \"\"\"Perform ADFuller to test for Stationarity of given series and print report\"\"\"\n",
    "    r = adfuller(series, autolag='AIC')\n",
    "    output = {'test_statistic':round(r[0], 4), 'pvalue':round(r[1], 4), 'n_lags':round(r[2], 4), 'n_obs':r[3]}\n",
    "    p_value = output['pvalue'] \n",
    "    def adjust(val, length= 6): return str(val).ljust(length)\n",
    "\n",
    "    # Print Summary\n",
    "    print(f'    Augmented Dickey-Fuller Test on \"{name}\"', \"\\n   \", '-'*47)\n",
    "    print(f' Null Hypothesis: Data has unit root. Non-Stationary.')\n",
    "    print(f' Significance Level    = {signif}')\n",
    "    print(f' Test Statistic        = {output[\"test_statistic\"]}')\n",
    "    print(f' No. Lags Chosen       = {output[\"n_lags\"]}')\n",
    "\n",
    "    for key,val in r[4].items():\n",
    "        print(f' Critical value {adjust(key)} = {round(val, 3)}')\n",
    "        \n",
    "    if p_value <= signif:\n",
    "        print(f\" => P-Value = {p_value}. Rejecting Null Hypothesis.\")\n",
    "        print(f\" => Series is Stationary.\")\n",
    "    else:\n",
    "        print(f\" => P-Value = {p_value}. Weak evidence to reject the Null Hypothesis.\")\n",
    "        print(f\" => Series is Non-Stationary.\")    "
   ]
  },
  {
   "cell_type": "code",
   "execution_count": 158,
   "metadata": {},
   "outputs": [
    {
     "name": "stdout",
     "output_type": "stream",
     "text": [
      "    Augmented Dickey-Fuller Test on \"AT_solar_generation_actual\" \n",
      "    -----------------------------------------------\n",
      " Null Hypothesis: Data has unit root. Non-Stationary.\n",
      " Significance Level    = 0.05\n",
      " Test Statistic        = -4.1576\n",
      " No. Lags Chosen       = 42\n",
      " Critical value 1%     = -3.431\n",
      " Critical value 5%     = -2.862\n",
      " Critical value 10%    = -2.567\n",
      " => P-Value = 0.0008. Rejecting Null Hypothesis.\n",
      " => Series is Stationary.\n",
      "\n",
      "\n",
      "    Augmented Dickey-Fuller Test on \"AT_windspeed_10m\" \n",
      "    -----------------------------------------------\n",
      " Null Hypothesis: Data has unit root. Non-Stationary.\n",
      " Significance Level    = 0.05\n",
      " Test Statistic        = -10.7991\n",
      " No. Lags Chosen       = 42\n",
      " Critical value 1%     = -3.431\n",
      " Critical value 5%     = -2.862\n",
      " Critical value 10%    = -2.567\n",
      " => P-Value = 0.0. Rejecting Null Hypothesis.\n",
      " => Series is Stationary.\n",
      "\n",
      "\n",
      "    Augmented Dickey-Fuller Test on \"AT_temperature\" \n",
      "    -----------------------------------------------\n",
      " Null Hypothesis: Data has unit root. Non-Stationary.\n",
      " Significance Level    = 0.05\n",
      " Test Statistic        = -2.7763\n",
      " No. Lags Chosen       = 42\n",
      " Critical value 1%     = -3.431\n",
      " Critical value 5%     = -2.862\n",
      " Critical value 10%    = -2.567\n",
      " => P-Value = 0.0617. Weak evidence to reject the Null Hypothesis.\n",
      " => Series is Non-Stationary.\n",
      "\n",
      "\n",
      "    Augmented Dickey-Fuller Test on \"AT_radiation_direct_horizontal\" \n",
      "    -----------------------------------------------\n",
      " Null Hypothesis: Data has unit root. Non-Stationary.\n",
      " Significance Level    = 0.05\n",
      " Test Statistic        = -9.0018\n",
      " No. Lags Chosen       = 42\n",
      " Critical value 1%     = -3.431\n",
      " Critical value 5%     = -2.862\n",
      " Critical value 10%    = -2.567\n",
      " => P-Value = 0.0. Rejecting Null Hypothesis.\n",
      " => Series is Stationary.\n",
      "\n",
      "\n",
      "    Augmented Dickey-Fuller Test on \"AT_radiation_diffuse_horizontal\" \n",
      "    -----------------------------------------------\n",
      " Null Hypothesis: Data has unit root. Non-Stationary.\n",
      " Significance Level    = 0.05\n",
      " Test Statistic        = -8.0314\n",
      " No. Lags Chosen       = 42\n",
      " Critical value 1%     = -3.431\n",
      " Critical value 5%     = -2.862\n",
      " Critical value 10%    = -2.567\n",
      " => P-Value = 0.0. Rejecting Null Hypothesis.\n",
      " => Series is Stationary.\n",
      "\n",
      "\n"
     ]
    }
   ],
   "source": [
    "for name, column in df_train.iteritems():\n",
    "    adfuller_test(column, name=column.name)\n",
    "    print('\\n')"
   ]
  },
  {
   "cell_type": "code",
   "execution_count": 159,
   "metadata": {},
   "outputs": [],
   "source": [
    "df_differenced = df_train.diff().dropna()"
   ]
  },
  {
   "cell_type": "code",
   "execution_count": 160,
   "metadata": {},
   "outputs": [
    {
     "name": "stdout",
     "output_type": "stream",
     "text": [
      "    Augmented Dickey-Fuller Test on \"AT_solar_generation_actual\" \n",
      "    -----------------------------------------------\n",
      " Null Hypothesis: Data has unit root. Non-Stationary.\n",
      " Significance Level    = 0.05\n",
      " Test Statistic        = -29.7686\n",
      " No. Lags Chosen       = 42\n",
      " Critical value 1%     = -3.431\n",
      " Critical value 5%     = -2.862\n",
      " Critical value 10%    = -2.567\n",
      " => P-Value = 0.0. Rejecting Null Hypothesis.\n",
      " => Series is Stationary.\n",
      "\n",
      "\n",
      "    Augmented Dickey-Fuller Test on \"AT_windspeed_10m\" \n",
      "    -----------------------------------------------\n",
      " Null Hypothesis: Data has unit root. Non-Stationary.\n",
      " Significance Level    = 0.05\n",
      " Test Statistic        = -25.7427\n",
      " No. Lags Chosen       = 42\n",
      " Critical value 1%     = -3.431\n",
      " Critical value 5%     = -2.862\n",
      " Critical value 10%    = -2.567\n",
      " => P-Value = 0.0. Rejecting Null Hypothesis.\n",
      " => Series is Stationary.\n",
      "\n",
      "\n",
      "    Augmented Dickey-Fuller Test on \"AT_temperature\" \n",
      "    -----------------------------------------------\n",
      " Null Hypothesis: Data has unit root. Non-Stationary.\n",
      " Significance Level    = 0.05\n",
      " Test Statistic        = -23.6292\n",
      " No. Lags Chosen       = 42\n",
      " Critical value 1%     = -3.431\n",
      " Critical value 5%     = -2.862\n",
      " Critical value 10%    = -2.567\n",
      " => P-Value = 0.0. Rejecting Null Hypothesis.\n",
      " => Series is Stationary.\n",
      "\n",
      "\n",
      "    Augmented Dickey-Fuller Test on \"AT_radiation_direct_horizontal\" \n",
      "    -----------------------------------------------\n",
      " Null Hypothesis: Data has unit root. Non-Stationary.\n",
      " Significance Level    = 0.05\n",
      " Test Statistic        = -30.3374\n",
      " No. Lags Chosen       = 42\n",
      " Critical value 1%     = -3.431\n",
      " Critical value 5%     = -2.862\n",
      " Critical value 10%    = -2.567\n",
      " => P-Value = 0.0. Rejecting Null Hypothesis.\n",
      " => Series is Stationary.\n",
      "\n",
      "\n",
      "    Augmented Dickey-Fuller Test on \"AT_radiation_diffuse_horizontal\" \n",
      "    -----------------------------------------------\n",
      " Null Hypothesis: Data has unit root. Non-Stationary.\n",
      " Significance Level    = 0.05\n",
      " Test Statistic        = -28.805\n",
      " No. Lags Chosen       = 42\n",
      " Critical value 1%     = -3.431\n",
      " Critical value 5%     = -2.862\n",
      " Critical value 10%    = -2.567\n",
      " => P-Value = 0.0. Rejecting Null Hypothesis.\n",
      " => Series is Stationary.\n",
      "\n",
      "\n"
     ]
    }
   ],
   "source": [
    "for name, column in df_differenced.iteritems():\n",
    "    adfuller_test(column, name=column.name)\n",
    "    print('\\n')"
   ]
  },
  {
   "cell_type": "code",
   "execution_count": 161,
   "metadata": {},
   "outputs": [
    {
     "name": "stdout",
     "output_type": "stream",
     "text": [
      "Lag Order = 1\n",
      "AIC :  -40.331837299883894\n",
      "BIC :  -40.315653524294426\n",
      "FPE :  3.0486362950989435e-18\n",
      "HQIC:  -40.32644932083825 \n",
      "\n",
      "Lag Order = 2\n",
      "AIC :  -41.73406807842926\n",
      "BIC :  -41.704395983032256\n",
      "FPE :  7.501092601102817e-19\n",
      "HQIC:  -41.724189469520425 \n",
      "\n",
      "Lag Order ="
     ]
    },
    {
     "name": "stderr",
     "output_type": "stream",
     "text": [
      "C:\\Users\\Sakshee\\miniconda3\\envs\\tensorflow\\lib\\site-packages\\statsmodels\\tsa\\base\\tsa_model.py:214: ValueWarning: An unsupported index was provided and will be ignored when e.g. forecasting.\n",
      "  ' ignored when e.g. forecasting.', ValueWarning)\n"
     ]
    },
    {
     "name": "stdout",
     "output_type": "stream",
     "text": [
      " 3\n",
      "AIC :  -41.90168392568615\n",
      "BIC :  -41.85852183726479\n",
      "FPE :  6.343513826262441e-19\n",
      "HQIC:  -41.88731409830884 \n",
      "\n",
      "Lag Order = 4\n",
      "AIC :  -41.982888161786015\n",
      "BIC :  -41.92623440679196\n",
      "FPE :  5.848753820339347e-19\n",
      "HQIC:  -41.96402652721504 \n",
      "\n",
      "Lag Order = 5\n",
      "AIC :  -42.04104624429124\n",
      "BIC :  -41.97089914884456\n",
      "FPE :  5.518303874831169e-19\n",
      "HQIC:  -42.017692213681435 \n",
      "\n",
      "Lag Order = 6\n",
      "AIC :  -42.08553086762915\n",
      "BIC :  -42.0018887575182\n",
      "FPE :  5.2782042493469555e-19\n",
      "HQIC:  -42.05768385201538 \n",
      "\n",
      "Lag Order = 7\n",
      "AIC :  -42.14223183728147\n",
      "BIC :  -42.04509303796285\n",
      "FPE :  4.987251650055859e-19\n",
      "HQIC:  -42.109891247578574 \n",
      "\n",
      "Lag Order = 8\n",
      "AIC :  -42.181928081663614\n",
      "BIC :  -42.07129091826204\n",
      "FPE :  4.793154572482705e-19\n",
      "HQIC:  -42.145093328666384 \n",
      "\n",
      "Lag Order = 9\n",
      "AIC :  -42.22749026196332\n",
      "BIC :  -42.103353059271534\n",
      "FPE :  4.579668537002128e-19\n",
      "HQIC:  -42.18616075634647 \n",
      "\n"
     ]
    }
   ],
   "source": [
    "model = VAR(df_differenced)\n",
    "for i in [1,2,3,4,5,6,7,8,9]:\n",
    "    result = model.fit(i)\n",
    "    print('Lag Order =', i)\n",
    "    print('AIC : ', result.aic)\n",
    "    print('BIC : ', result.bic)\n",
    "    print('FPE : ', result.fpe)\n",
    "    print('HQIC: ', result.hqic, '\\n')"
   ]
  },
  {
   "cell_type": "code",
   "execution_count": 162,
   "metadata": {},
   "outputs": [
    {
     "data": {
      "text/plain": [
       "  Summary of Regression Results   \n",
       "==================================\n",
       "Model:                         VAR\n",
       "Method:                        OLS\n",
       "Date:           Sat, 01, Aug, 2020\n",
       "Time:                     23:15:30\n",
       "--------------------------------------------------------------------\n",
       "No. of Equations:         5.00000    BIC:                   -41.9262\n",
       "Nobs:                     13985.0    HQIC:                  -41.9640\n",
       "Log likelihood:           194451.    FPE:                5.84875e-19\n",
       "AIC:                     -41.9829    Det(Omega_mle):     5.80504e-19\n",
       "--------------------------------------------------------------------\n",
       "Results for equation AT_solar_generation_actual\n",
       "=====================================================================================================\n",
       "                                        coefficient       std. error           t-stat            prob\n",
       "-----------------------------------------------------------------------------------------------------\n",
       "const                                      0.000015         0.000127            0.117           0.907\n",
       "L1.AT_solar_generation_actual              1.160262         0.011078          104.735           0.000\n",
       "L1.AT_windspeed_10m                       -0.086784         0.006953          -12.481           0.000\n",
       "L1.AT_temperature                         -0.768179         0.022446          -34.223           0.000\n",
       "L1.AT_radiation_direct_horizontal          0.575336         0.008626           66.700           0.000\n",
       "L1.AT_radiation_diffuse_horizontal         0.397060         0.006221           63.822           0.000\n",
       "L2.AT_solar_generation_actual             -0.653812         0.015491          -42.206           0.000\n",
       "L2.AT_windspeed_10m                       -0.049814         0.008830           -5.641           0.000\n",
       "L2.AT_temperature                          0.863302         0.034851           24.771           0.000\n",
       "L2.AT_radiation_direct_horizontal         -0.411742         0.013184          -31.231           0.000\n",
       "L2.AT_radiation_diffuse_horizontal        -0.301863         0.009364          -32.236           0.000\n",
       "L3.AT_solar_generation_actual              0.102426         0.014929            6.861           0.000\n",
       "L3.AT_windspeed_10m                        0.077011         0.008885            8.668           0.000\n",
       "L3.AT_temperature                         -0.073885         0.036081           -2.048           0.041\n",
       "L3.AT_radiation_direct_horizontal          0.052761         0.013742            3.839           0.000\n",
       "L3.AT_radiation_diffuse_horizontal         0.083152         0.009525            8.730           0.000\n",
       "L4.AT_solar_generation_actual             -0.049032         0.009493           -5.165           0.000\n",
       "L4.AT_windspeed_10m                       -0.021328         0.007202           -2.961           0.003\n",
       "L4.AT_temperature                         -0.273581         0.023492          -11.646           0.000\n",
       "L4.AT_radiation_direct_horizontal          0.078543         0.009429            8.330           0.000\n",
       "L4.AT_radiation_diffuse_horizontal         0.034561         0.006322            5.467           0.000\n",
       "=====================================================================================================\n",
       "\n",
       "Results for equation AT_windspeed_10m\n",
       "=====================================================================================================\n",
       "                                        coefficient       std. error           t-stat            prob\n",
       "-----------------------------------------------------------------------------------------------------\n",
       "const                                      0.000003         0.000158            0.017           0.986\n",
       "L1.AT_solar_generation_actual              0.126267         0.013777            9.165           0.000\n",
       "L1.AT_windspeed_10m                        0.694148         0.008647           80.272           0.000\n",
       "L1.AT_temperature                         -1.093398         0.027914          -39.170           0.000\n",
       "L1.AT_radiation_direct_horizontal          0.249662         0.010727           23.274           0.000\n",
       "L1.AT_radiation_diffuse_horizontal         0.189694         0.007737           24.518           0.000\n",
       "L2.AT_solar_generation_actual             -0.113532         0.019265           -5.893           0.000\n",
       "L2.AT_windspeed_10m                       -0.160535         0.010982          -14.619           0.000\n",
       "L2.AT_temperature                          1.245214         0.043342           28.730           0.000\n",
       "L2.AT_radiation_direct_horizontal         -0.212777         0.016396          -12.978           0.000\n",
       "L2.AT_radiation_diffuse_horizontal        -0.154667         0.011645          -13.281           0.000\n",
       "L3.AT_solar_generation_actual             -0.017387         0.018565           -0.937           0.349\n",
       "L3.AT_windspeed_10m                        0.033147         0.011049            3.000           0.003\n",
       "L3.AT_temperature                         -0.455844         0.044871          -10.159           0.000\n",
       "L3.AT_radiation_direct_horizontal          0.012635         0.017090            0.739           0.460\n",
       "L3.AT_radiation_diffuse_horizontal         0.026290         0.011845            2.219           0.026\n",
       "L4.AT_solar_generation_actual              0.067651         0.011806            5.730           0.000\n",
       "L4.AT_windspeed_10m                       -0.029179         0.008956           -3.258           0.001\n",
       "L4.AT_temperature                          0.044781         0.029215            1.533           0.125\n",
       "L4.AT_radiation_direct_horizontal          0.032941         0.011726            2.809           0.005\n",
       "L4.AT_radiation_diffuse_horizontal        -0.006477         0.007862           -0.824           0.410\n",
       "=====================================================================================================\n",
       "\n",
       "Results for equation AT_temperature\n",
       "=====================================================================================================\n",
       "                                        coefficient       std. error           t-stat            prob\n",
       "-----------------------------------------------------------------------------------------------------\n",
       "const                                      0.000014         0.000065            0.209           0.834\n",
       "L1.AT_solar_generation_actual              0.084015         0.005687           14.772           0.000\n",
       "L1.AT_windspeed_10m                        0.077040         0.003570           21.581           0.000\n",
       "L1.AT_temperature                          0.724504         0.011523           62.872           0.000\n",
       "L1.AT_radiation_direct_horizontal          0.148538         0.004428           33.543           0.000\n",
       "L1.AT_radiation_diffuse_horizontal         0.108315         0.003194           33.913           0.000\n",
       "L2.AT_solar_generation_actual             -0.062360         0.007953           -7.841           0.000\n",
       "L2.AT_windspeed_10m                       -0.109728         0.004533          -24.205           0.000\n",
       "L2.AT_temperature                         -0.050077         0.017892           -2.799           0.005\n",
       "L2.AT_radiation_direct_horizontal         -0.146673         0.006768          -21.670           0.000\n",
       "L2.AT_radiation_diffuse_horizontal        -0.113849         0.004807          -23.682           0.000\n",
       "L3.AT_solar_generation_actual             -0.002452         0.007664           -0.320           0.749\n",
       "L3.AT_windspeed_10m                        0.062278         0.004561           13.654           0.000\n",
       "L3.AT_temperature                         -0.087543         0.018523           -4.726           0.000\n",
       "L3.AT_radiation_direct_horizontal          0.032399         0.007055            4.592           0.000\n",
       "L3.AT_radiation_diffuse_horizontal         0.036883         0.004890            7.543           0.000\n",
       "L4.AT_solar_generation_actual              0.045645         0.004874            9.366           0.000\n",
       "L4.AT_windspeed_10m                       -0.017438         0.003697           -4.716           0.000\n",
       "L4.AT_temperature                         -0.055510         0.012060           -4.603           0.000\n",
       "L4.AT_radiation_direct_horizontal          0.024313         0.004840            5.023           0.000\n",
       "L4.AT_radiation_diffuse_horizontal         0.006751         0.003245            2.080           0.038\n",
       "=====================================================================================================\n",
       "\n",
       "Results for equation AT_radiation_direct_horizontal\n",
       "=====================================================================================================\n",
       "                                        coefficient       std. error           t-stat            prob\n",
       "-----------------------------------------------------------------------------------------------------\n",
       "const                                      0.000013         0.000179            0.073           0.942\n",
       "L1.AT_solar_generation_actual              0.289825         0.015634           18.538           0.000\n",
       "L1.AT_windspeed_10m                       -0.206090         0.009813          -21.002           0.000\n",
       "L1.AT_temperature                         -0.535096         0.031677          -16.892           0.000\n",
       "L1.AT_radiation_direct_horizontal          1.474415         0.012173          121.121           0.000\n",
       "L1.AT_radiation_diffuse_horizontal         0.241068         0.008780           27.457           0.000\n",
       "L2.AT_solar_generation_actual             -0.322929         0.021862          -14.771           0.000\n",
       "L2.AT_windspeed_10m                        0.065424         0.012462            5.250           0.000\n",
       "L2.AT_temperature                          0.793698         0.049184           16.137           0.000\n",
       "L2.AT_radiation_direct_horizontal         -0.901807         0.018606          -48.470           0.000\n",
       "L2.AT_radiation_diffuse_horizontal        -0.211432         0.013215          -15.999           0.000\n",
       "L3.AT_solar_generation_actual              0.112154         0.021068            5.323           0.000\n",
       "L3.AT_windspeed_10m                        0.087933         0.012538            7.013           0.000\n",
       "L3.AT_temperature                         -0.036966         0.050919           -0.726           0.468\n",
       "L3.AT_radiation_direct_horizontal          0.159165         0.019393            8.207           0.000\n",
       "L3.AT_radiation_diffuse_horizontal        -0.018013         0.013442           -1.340           0.180\n",
       "L4.AT_solar_generation_actual              0.003129         0.013397            0.234           0.815\n",
       "L4.AT_windspeed_10m                       -0.040392         0.010164           -3.974           0.000\n",
       "L4.AT_temperature                         -0.383743         0.033153          -11.575           0.000\n",
       "L4.AT_radiation_direct_horizontal         -0.021999         0.013306           -1.653           0.098\n",
       "L4.AT_radiation_diffuse_horizontal         0.071982         0.008921            8.069           0.000\n",
       "=====================================================================================================\n",
       "\n",
       "Results for equation AT_radiation_diffuse_horizontal\n",
       "=====================================================================================================\n",
       "                                        coefficient       std. error           t-stat            prob\n",
       "-----------------------------------------------------------------------------------------------------\n",
       "const                                      0.000020         0.000267            0.074           0.941\n",
       "L1.AT_solar_generation_actual              0.340142         0.023255           14.627           0.000\n",
       "L1.AT_windspeed_10m                        0.204395         0.014596           14.003           0.000\n",
       "L1.AT_temperature                         -1.855784         0.047118          -39.386           0.000\n",
       "L1.AT_radiation_direct_horizontal          0.246010         0.018107           13.586           0.000\n",
       "L1.AT_radiation_diffuse_horizontal         1.359125         0.013060          104.070           0.000\n",
       "L2.AT_solar_generation_actual             -0.264050         0.032519           -8.120           0.000\n",
       "L2.AT_windspeed_10m                       -0.322498         0.018536          -17.398           0.000\n",
       "L2.AT_temperature                          1.334152         0.073159           18.236           0.000\n",
       "L2.AT_radiation_direct_horizontal         -0.039713         0.027675           -1.435           0.151\n",
       "L2.AT_radiation_diffuse_horizontal        -0.737210         0.019657          -37.504           0.000\n",
       "L3.AT_solar_generation_actual              0.005305         0.031338            0.169           0.866\n",
       "L3.AT_windspeed_10m                        0.170646         0.018650            9.150           0.000\n",
       "L3.AT_temperature                         -0.399934         0.075740           -5.280           0.000\n",
       "L3.AT_radiation_direct_horizontal         -0.061898         0.028847           -2.146           0.032\n",
       "L3.AT_radiation_diffuse_horizontal         0.259143         0.019994           12.961           0.000\n",
       "L4.AT_solar_generation_actual              0.111176         0.019927            5.579           0.000\n",
       "L4.AT_windspeed_10m                       -0.054939         0.015118           -3.634           0.000\n",
       "L4.AT_temperature                         -0.092443         0.049314           -1.875           0.061\n",
       "L4.AT_radiation_direct_horizontal          0.094381         0.019792            4.769           0.000\n",
       "L4.AT_radiation_diffuse_horizontal        -0.093600         0.013270           -7.053           0.000\n",
       "=====================================================================================================\n",
       "\n",
       "Correlation matrix of residuals\n",
       "                                   AT_solar_generation_actual  AT_windspeed_10m  AT_temperature  AT_radiation_direct_horizontal  AT_radiation_diffuse_horizontal\n",
       "AT_solar_generation_actual                           1.000000          0.207087        0.360381                        0.435841                         0.335361\n",
       "AT_windspeed_10m                                     0.207087          1.000000        0.057671                        0.109190                         0.116517\n",
       "AT_temperature                                       0.360381          0.057671        1.000000                        0.269440                         0.528480\n",
       "AT_radiation_direct_horizontal                       0.435841          0.109190        0.269440                        1.000000                        -0.271177\n",
       "AT_radiation_diffuse_horizontal                      0.335361          0.116517        0.528480                       -0.271177                         1.000000\n",
       "\n"
      ]
     },
     "execution_count": 162,
     "metadata": {},
     "output_type": "execute_result"
    }
   ],
   "source": [
    "model_fitted = model.fit(4)\n",
    "model_fitted.summary()"
   ]
  },
  {
   "cell_type": "code",
   "execution_count": 163,
   "metadata": {},
   "outputs": [
    {
     "name": "stdout",
     "output_type": "stream",
     "text": [
      "4\n"
     ]
    },
    {
     "data": {
      "text/plain": [
       "array([[ 0.        , -0.00110497, -0.00688176,  0.        ,  0.        ],\n",
       "       [ 0.        ,  0.        , -0.00889266,  0.00046249,  0.00430832],\n",
       "       [ 0.03114754, -0.02209945,  0.01941639,  0.04944503,  0.09290328],\n",
       "       [ 0.12786885, -0.00773481,  0.06088569,  0.1682386 ,  0.0480406 ]])"
      ]
     },
     "execution_count": 163,
     "metadata": {},
     "output_type": "execute_result"
    }
   ],
   "source": [
    "# Get the lag order\n",
    "lag_order = model_fitted.k_ar\n",
    "print(lag_order)  #> 4\n",
    "\n",
    "# Input data for forecasting\n",
    "forecast_input = df_differenced.values[-lag_order:]\n",
    "forecast_input"
   ]
  },
  {
   "cell_type": "code",
   "execution_count": 164,
   "metadata": {},
   "outputs": [],
   "source": [
    "# Forecast\n",
    "fc = model_fitted.forecast(y=forecast_input, steps=nobs)"
   ]
  },
  {
   "cell_type": "code",
   "execution_count": 165,
   "metadata": {},
   "outputs": [
    {
     "data": {
      "text/html": [
       "<div>\n",
       "<style scoped>\n",
       "    .dataframe tbody tr th:only-of-type {\n",
       "        vertical-align: middle;\n",
       "    }\n",
       "\n",
       "    .dataframe tbody tr th {\n",
       "        vertical-align: top;\n",
       "    }\n",
       "\n",
       "    .dataframe thead th {\n",
       "        text-align: right;\n",
       "    }\n",
       "</style>\n",
       "<table border=\"1\" class=\"dataframe\">\n",
       "  <thead>\n",
       "    <tr style=\"text-align: right;\">\n",
       "      <th></th>\n",
       "      <th>AT_solar_generation_actual</th>\n",
       "      <th>AT_windspeed_10m</th>\n",
       "      <th>AT_temperature</th>\n",
       "      <th>AT_radiation_direct_horizontal</th>\n",
       "      <th>AT_radiation_diffuse_horizontal</th>\n",
       "    </tr>\n",
       "  </thead>\n",
       "  <tbody>\n",
       "    <tr>\n",
       "      <th>0</th>\n",
       "      <td>0.170187</td>\n",
       "      <td>-0.001481</td>\n",
       "      <td>0.067501</td>\n",
       "      <td>0.208406</td>\n",
       "      <td>-0.004682</td>\n",
       "    </tr>\n",
       "    <tr>\n",
       "      <th>1</th>\n",
       "      <td>0.162376</td>\n",
       "      <td>0.009645</td>\n",
       "      <td>0.055642</td>\n",
       "      <td>0.175063</td>\n",
       "      <td>-0.004785</td>\n",
       "    </tr>\n",
       "    <tr>\n",
       "      <th>2</th>\n",
       "      <td>0.127935</td>\n",
       "      <td>0.008313</td>\n",
       "      <td>0.039988</td>\n",
       "      <td>0.120303</td>\n",
       "      <td>0.007194</td>\n",
       "    </tr>\n",
       "    <tr>\n",
       "      <th>3</th>\n",
       "      <td>0.074890</td>\n",
       "      <td>0.007964</td>\n",
       "      <td>0.027087</td>\n",
       "      <td>0.055410</td>\n",
       "      <td>0.015159</td>\n",
       "    </tr>\n",
       "    <tr>\n",
       "      <th>4</th>\n",
       "      <td>0.013592</td>\n",
       "      <td>0.004996</td>\n",
       "      <td>0.016969</td>\n",
       "      <td>-0.013388</td>\n",
       "      <td>0.018942</td>\n",
       "    </tr>\n",
       "    <tr>\n",
       "      <th>...</th>\n",
       "      <td>...</td>\n",
       "      <td>...</td>\n",
       "      <td>...</td>\n",
       "      <td>...</td>\n",
       "      <td>...</td>\n",
       "    </tr>\n",
       "    <tr>\n",
       "      <th>3493</th>\n",
       "      <td>0.000027</td>\n",
       "      <td>-0.000007</td>\n",
       "      <td>0.000035</td>\n",
       "      <td>0.000031</td>\n",
       "      <td>-0.000016</td>\n",
       "    </tr>\n",
       "    <tr>\n",
       "      <th>3494</th>\n",
       "      <td>0.000027</td>\n",
       "      <td>-0.000007</td>\n",
       "      <td>0.000035</td>\n",
       "      <td>0.000031</td>\n",
       "      <td>-0.000016</td>\n",
       "    </tr>\n",
       "    <tr>\n",
       "      <th>3495</th>\n",
       "      <td>0.000027</td>\n",
       "      <td>-0.000007</td>\n",
       "      <td>0.000035</td>\n",
       "      <td>0.000031</td>\n",
       "      <td>-0.000016</td>\n",
       "    </tr>\n",
       "    <tr>\n",
       "      <th>3496</th>\n",
       "      <td>0.000027</td>\n",
       "      <td>-0.000007</td>\n",
       "      <td>0.000035</td>\n",
       "      <td>0.000031</td>\n",
       "      <td>-0.000016</td>\n",
       "    </tr>\n",
       "    <tr>\n",
       "      <th>3497</th>\n",
       "      <td>0.000027</td>\n",
       "      <td>-0.000007</td>\n",
       "      <td>0.000035</td>\n",
       "      <td>0.000031</td>\n",
       "      <td>-0.000016</td>\n",
       "    </tr>\n",
       "  </tbody>\n",
       "</table>\n",
       "<p>3498 rows × 5 columns</p>\n",
       "</div>"
      ],
      "text/plain": [
       "      AT_solar_generation_actual  AT_windspeed_10m  AT_temperature  \\\n",
       "0                       0.170187         -0.001481        0.067501   \n",
       "1                       0.162376          0.009645        0.055642   \n",
       "2                       0.127935          0.008313        0.039988   \n",
       "3                       0.074890          0.007964        0.027087   \n",
       "4                       0.013592          0.004996        0.016969   \n",
       "...                          ...               ...             ...   \n",
       "3493                    0.000027         -0.000007        0.000035   \n",
       "3494                    0.000027         -0.000007        0.000035   \n",
       "3495                    0.000027         -0.000007        0.000035   \n",
       "3496                    0.000027         -0.000007        0.000035   \n",
       "3497                    0.000027         -0.000007        0.000035   \n",
       "\n",
       "      AT_radiation_direct_horizontal  AT_radiation_diffuse_horizontal  \n",
       "0                           0.208406                        -0.004682  \n",
       "1                           0.175063                        -0.004785  \n",
       "2                           0.120303                         0.007194  \n",
       "3                           0.055410                         0.015159  \n",
       "4                          -0.013388                         0.018942  \n",
       "...                              ...                              ...  \n",
       "3493                        0.000031                        -0.000016  \n",
       "3494                        0.000031                        -0.000016  \n",
       "3495                        0.000031                        -0.000016  \n",
       "3496                        0.000031                        -0.000016  \n",
       "3497                        0.000031                        -0.000016  \n",
       "\n",
       "[3498 rows x 5 columns]"
      ]
     },
     "execution_count": 165,
     "metadata": {},
     "output_type": "execute_result"
    }
   ],
   "source": [
    "df_forecast = pd.DataFrame(fc, columns = Solar.columns)\n",
    "df_forecast"
   ]
  },
  {
   "cell_type": "code",
   "execution_count": 175,
   "metadata": {},
   "outputs": [],
   "source": [
    "# inverting transformation\n",
    "def invert_transformation(df_differenced, df_forecast):\n",
    "    forecast = df_forecast.copy()\n",
    "    columns = df_train.columns\n",
    "    for col in columns:\n",
    "        forecast[str(col)] = df_train[col].iloc[-1] + forecast[str(col)].cumsum()\n",
    "    return forecast\n",
    "\n",
    "output = invert_transformation(df_differenced, df_forecast)"
   ]
  },
  {
   "cell_type": "code",
   "execution_count": 176,
   "metadata": {},
   "outputs": [
    {
     "data": {
      "text/html": [
       "<div>\n",
       "<style scoped>\n",
       "    .dataframe tbody tr th:only-of-type {\n",
       "        vertical-align: middle;\n",
       "    }\n",
       "\n",
       "    .dataframe tbody tr th {\n",
       "        vertical-align: top;\n",
       "    }\n",
       "\n",
       "    .dataframe thead th {\n",
       "        text-align: right;\n",
       "    }\n",
       "</style>\n",
       "<table border=\"1\" class=\"dataframe\">\n",
       "  <thead>\n",
       "    <tr style=\"text-align: right;\">\n",
       "      <th></th>\n",
       "      <th>AT_solar_generation_actual</th>\n",
       "      <th>AT_windspeed_10m</th>\n",
       "      <th>AT_temperature</th>\n",
       "      <th>AT_radiation_direct_horizontal</th>\n",
       "      <th>AT_radiation_diffuse_horizontal</th>\n",
       "    </tr>\n",
       "  </thead>\n",
       "  <tbody>\n",
       "    <tr>\n",
       "      <th>0</th>\n",
       "      <td>0.329203</td>\n",
       "      <td>0.120066</td>\n",
       "      <td>0.690367</td>\n",
       "      <td>0.426552</td>\n",
       "      <td>0.140571</td>\n",
       "    </tr>\n",
       "    <tr>\n",
       "      <th>1</th>\n",
       "      <td>0.491579</td>\n",
       "      <td>0.129711</td>\n",
       "      <td>0.746009</td>\n",
       "      <td>0.601614</td>\n",
       "      <td>0.135786</td>\n",
       "    </tr>\n",
       "    <tr>\n",
       "      <th>2</th>\n",
       "      <td>0.619514</td>\n",
       "      <td>0.138024</td>\n",
       "      <td>0.785997</td>\n",
       "      <td>0.721917</td>\n",
       "      <td>0.142980</td>\n",
       "    </tr>\n",
       "    <tr>\n",
       "      <th>3</th>\n",
       "      <td>0.694404</td>\n",
       "      <td>0.145987</td>\n",
       "      <td>0.813084</td>\n",
       "      <td>0.777327</td>\n",
       "      <td>0.158139</td>\n",
       "    </tr>\n",
       "    <tr>\n",
       "      <th>4</th>\n",
       "      <td>0.707996</td>\n",
       "      <td>0.150984</td>\n",
       "      <td>0.830053</td>\n",
       "      <td>0.763939</td>\n",
       "      <td>0.177082</td>\n",
       "    </tr>\n",
       "  </tbody>\n",
       "</table>\n",
       "</div>"
      ],
      "text/plain": [
       "   AT_solar_generation_actual  AT_windspeed_10m  AT_temperature  \\\n",
       "0                    0.329203          0.120066        0.690367   \n",
       "1                    0.491579          0.129711        0.746009   \n",
       "2                    0.619514          0.138024        0.785997   \n",
       "3                    0.694404          0.145987        0.813084   \n",
       "4                    0.707996          0.150984        0.830053   \n",
       "\n",
       "   AT_radiation_direct_horizontal  AT_radiation_diffuse_horizontal  \n",
       "0                        0.426552                         0.140571  \n",
       "1                        0.601614                         0.135786  \n",
       "2                        0.721917                         0.142980  \n",
       "3                        0.777327                         0.158139  \n",
       "4                        0.763939                         0.177082  "
      ]
     },
     "execution_count": 176,
     "metadata": {},
     "output_type": "execute_result"
    }
   ],
   "source": [
    "output.head()"
   ]
  },
  {
   "cell_type": "code",
   "execution_count": 178,
   "metadata": {},
   "outputs": [],
   "source": [
    "from statsmodels.tsa.stattools import acf\n",
    "\n",
    "def forecast_accuracy(forecast, actual):\n",
    "    mae = np.mean(np.abs(forecast - actual))    # MAE\n",
    "    rmse = np.mean((forecast - actual)**2)**.5  # RMSE\n",
    "    return({'mae': mae, 'rmse':rmse})"
   ]
  },
  {
   "cell_type": "code",
   "execution_count": 179,
   "metadata": {},
   "outputs": [
    {
     "name": "stdout",
     "output_type": "stream",
     "text": [
      "Forecast Accuracy of: AT_solar_generation_actual\n"
     ]
    },
    {
     "data": {
      "text/plain": [
       "{'mae': 0.31932542025715116, 'rmse': 0.34190349795859964}"
      ]
     },
     "execution_count": 179,
     "metadata": {},
     "output_type": "execute_result"
    }
   ],
   "source": [
    "print('Forecast Accuracy of: AT_solar_generation_actual')\n",
    "accuracy = forecast_accuracy(output['AT_solar_generation_actual'].values, df_test['AT_solar_generation_actual'].values)\n",
    "accuracy"
   ]
  },
  {
   "cell_type": "code",
   "execution_count": 180,
   "metadata": {},
   "outputs": [
    {
     "name": "stdout",
     "output_type": "stream",
     "text": [
      "\n",
      "Forecast Accuracy of: AT_windspeed_10m\n"
     ]
    },
    {
     "data": {
      "text/plain": [
       "{'mae': 0.12383556314154362, 'rmse': 0.17081588488376923}"
      ]
     },
     "execution_count": 180,
     "metadata": {},
     "output_type": "execute_result"
    }
   ],
   "source": [
    "print('\\nForecast Accuracy of: AT_windspeed_10m')\n",
    "accuracy = forecast_accuracy(output['AT_windspeed_10m'].values, df_test['AT_windspeed_10m'].values)\n",
    "accuracy"
   ]
  },
  {
   "cell_type": "code",
   "execution_count": 184,
   "metadata": {},
   "outputs": [
    {
     "name": "stdout",
     "output_type": "stream",
     "text": [
      "\n",
      "Forecast Accuracy of: AT_temperature\n"
     ]
    },
    {
     "data": {
      "text/plain": [
       "{'mae': 0.3669333198391381, 'rmse': 0.42067239283429303}"
      ]
     },
     "execution_count": 184,
     "metadata": {},
     "output_type": "execute_result"
    }
   ],
   "source": [
    "print('\\nForecast Accuracy of: AT_temperature')\n",
    "accuracy = forecast_accuracy(output['AT_temperature'].values, df_test['AT_temperature'].values)\n",
    "accuracy"
   ]
  },
  {
   "cell_type": "code",
   "execution_count": 182,
   "metadata": {},
   "outputs": [
    {
     "name": "stdout",
     "output_type": "stream",
     "text": [
      "\n",
      "Forecast Accuracy of: AT_radiation_direct_horizontal\n"
     ]
    },
    {
     "data": {
      "text/plain": [
       "{'mae': 0.41983552889470294, 'rmse': 0.43813183036411407}"
      ]
     },
     "execution_count": 182,
     "metadata": {},
     "output_type": "execute_result"
    }
   ],
   "source": [
    "print('\\nForecast Accuracy of: AT_radiation_direct_horizontal')\n",
    "accuracy = forecast_accuracy(output['AT_radiation_direct_horizontal'].values, df_test['AT_radiation_direct_horizontal'].values)\n",
    "accuracy"
   ]
  },
  {
   "cell_type": "code",
   "execution_count": 183,
   "metadata": {},
   "outputs": [
    {
     "name": "stdout",
     "output_type": "stream",
     "text": [
      "\n",
      "Forecast Accuracy of: AT_radiation_diffuse_horizontal\n"
     ]
    },
    {
     "data": {
      "text/plain": [
       "{'mae': 0.15218961888937835, 'rmse': 0.22922421540496712}"
      ]
     },
     "execution_count": 183,
     "metadata": {},
     "output_type": "execute_result"
    }
   ],
   "source": [
    "print('\\nForecast Accuracy of: AT_radiation_diffuse_horizontal')\n",
    "accuracy = forecast_accuracy(output['AT_radiation_diffuse_horizontal'].values, df_test['AT_radiation_diffuse_horizontal'].values)\n",
    "accuracy"
   ]
  }
 ],
 "metadata": {
  "colab": {
   "name": "demandSupplyForecasting.ipynb",
   "provenance": []
  },
  "kernelspec": {
   "display_name": "Python 3",
   "language": "python",
   "name": "python3"
  },
  "language_info": {
   "codemirror_mode": {
    "name": "ipython",
    "version": 3
   },
   "file_extension": ".py",
   "mimetype": "text/x-python",
   "name": "python",
   "nbconvert_exporter": "python",
   "pygments_lexer": "ipython3",
   "version": "3.7.7"
  }
 },
 "nbformat": 4,
 "nbformat_minor": 1
}

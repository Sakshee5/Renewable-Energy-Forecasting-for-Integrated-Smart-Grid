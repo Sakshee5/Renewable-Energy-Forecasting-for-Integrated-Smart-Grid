{
 "cells": [
  {
   "cell_type": "markdown",
   "metadata": {
    "colab_type": "text",
    "id": "PBtCXeWYrnkK"
   },
   "source": [
    "# Importing modules, preprocessing\n"
   ]
  },
  {
   "cell_type": "code",
   "execution_count": 72,
   "metadata": {
    "colab": {},
    "colab_type": "code",
    "id": "0d-0qqUjIriK"
   },
   "outputs": [],
   "source": [
    "import numpy as np\n",
    "import pandas as pd\n",
    "import matplotlib.pyplot as plt\n",
    "from sklearn.preprocessing import MinMaxScaler\n",
    "from sklearn.preprocessing import LabelEncoder\n",
    "from sklearn.metrics import mean_absolute_error, mean_squared_error, r2_score\n",
    "from keras.models import Sequential\n",
    "from keras.layers import Dense\n",
    "from keras.layers import LSTM"
   ]
  },
  {
   "cell_type": "code",
   "execution_count": 73,
   "metadata": {
    "colab": {
     "base_uri": "https://localhost:8080/",
     "height": 232
    },
    "colab_type": "code",
    "id": "EmuBoihWI8ga",
    "outputId": "441547f1-5a09-4cc2-9d85-ead18c4cecc2"
   },
   "outputs": [
    {
     "data": {
      "text/html": [
       "<div>\n",
       "<style scoped>\n",
       "    .dataframe tbody tr th:only-of-type {\n",
       "        vertical-align: middle;\n",
       "    }\n",
       "\n",
       "    .dataframe tbody tr th {\n",
       "        vertical-align: top;\n",
       "    }\n",
       "\n",
       "    .dataframe thead th {\n",
       "        text-align: right;\n",
       "    }\n",
       "</style>\n",
       "<table border=\"1\" class=\"dataframe\">\n",
       "  <thead>\n",
       "    <tr style=\"text-align: right;\">\n",
       "      <th></th>\n",
       "      <th>Unnamed: 0</th>\n",
       "      <th>index</th>\n",
       "      <th>AT_load_actual_entsoe_power_statistics</th>\n",
       "      <th>AT_load_actual_entsoe_transparency</th>\n",
       "      <th>AT_price_day_ahead</th>\n",
       "      <th>AT_solar_generation_actual</th>\n",
       "      <th>AT_wind_onshore_generation_actual</th>\n",
       "      <th>AT_windspeed_10m</th>\n",
       "      <th>AT_temperature</th>\n",
       "      <th>AT_radiation_direct_horizontal</th>\n",
       "      <th>AT_radiation_diffuse_horizontal</th>\n",
       "    </tr>\n",
       "  </thead>\n",
       "  <tbody>\n",
       "    <tr>\n",
       "      <th>0</th>\n",
       "      <td>0</td>\n",
       "      <td>87656</td>\n",
       "      <td>7035.0</td>\n",
       "      <td>6343.0</td>\n",
       "      <td>36.0</td>\n",
       "      <td>2.0</td>\n",
       "      <td>109.0</td>\n",
       "      <td>3.27</td>\n",
       "      <td>-4.179</td>\n",
       "      <td>1.5614</td>\n",
       "      <td>25.9639</td>\n",
       "    </tr>\n",
       "    <tr>\n",
       "      <th>1</th>\n",
       "      <td>1</td>\n",
       "      <td>87657</td>\n",
       "      <td>7394.0</td>\n",
       "      <td>6882.0</td>\n",
       "      <td>41.0</td>\n",
       "      <td>10.0</td>\n",
       "      <td>146.0</td>\n",
       "      <td>3.23</td>\n",
       "      <td>-2.807</td>\n",
       "      <td>7.5467</td>\n",
       "      <td>75.0443</td>\n",
       "    </tr>\n",
       "    <tr>\n",
       "      <th>2</th>\n",
       "      <td>2</td>\n",
       "      <td>87658</td>\n",
       "      <td>7770.0</td>\n",
       "      <td>6963.0</td>\n",
       "      <td>45.0</td>\n",
       "      <td>21.0</td>\n",
       "      <td>146.0</td>\n",
       "      <td>3.22</td>\n",
       "      <td>-1.315</td>\n",
       "      <td>17.2073</td>\n",
       "      <td>116.9171</td>\n",
       "    </tr>\n",
       "    <tr>\n",
       "      <th>3</th>\n",
       "      <td>3</td>\n",
       "      <td>87659</td>\n",
       "      <td>7820.0</td>\n",
       "      <td>7110.0</td>\n",
       "      <td>50.0</td>\n",
       "      <td>32.0</td>\n",
       "      <td>158.0</td>\n",
       "      <td>3.22</td>\n",
       "      <td>-0.051</td>\n",
       "      <td>35.4289</td>\n",
       "      <td>146.8923</td>\n",
       "    </tr>\n",
       "    <tr>\n",
       "      <th>4</th>\n",
       "      <td>4</td>\n",
       "      <td>87660</td>\n",
       "      <td>7694.0</td>\n",
       "      <td>7136.0</td>\n",
       "      <td>51.0</td>\n",
       "      <td>37.0</td>\n",
       "      <td>187.0</td>\n",
       "      <td>3.00</td>\n",
       "      <td>0.791</td>\n",
       "      <td>58.5238</td>\n",
       "      <td>151.4721</td>\n",
       "    </tr>\n",
       "  </tbody>\n",
       "</table>\n",
       "</div>"
      ],
      "text/plain": [
       "   Unnamed: 0  index  AT_load_actual_entsoe_power_statistics  \\\n",
       "0           0  87656                                  7035.0   \n",
       "1           1  87657                                  7394.0   \n",
       "2           2  87658                                  7770.0   \n",
       "3           3  87659                                  7820.0   \n",
       "4           4  87660                                  7694.0   \n",
       "\n",
       "   AT_load_actual_entsoe_transparency  AT_price_day_ahead  \\\n",
       "0                              6343.0                36.0   \n",
       "1                              6882.0                41.0   \n",
       "2                              6963.0                45.0   \n",
       "3                              7110.0                50.0   \n",
       "4                              7136.0                51.0   \n",
       "\n",
       "   AT_solar_generation_actual  AT_wind_onshore_generation_actual  \\\n",
       "0                         2.0                              109.0   \n",
       "1                        10.0                              146.0   \n",
       "2                        21.0                              146.0   \n",
       "3                        32.0                              158.0   \n",
       "4                        37.0                              187.0   \n",
       "\n",
       "   AT_windspeed_10m  AT_temperature  AT_radiation_direct_horizontal  \\\n",
       "0              3.27          -4.179                          1.5614   \n",
       "1              3.23          -2.807                          7.5467   \n",
       "2              3.22          -1.315                         17.2073   \n",
       "3              3.22          -0.051                         35.4289   \n",
       "4              3.00           0.791                         58.5238   \n",
       "\n",
       "   AT_radiation_diffuse_horizontal  \n",
       "0                          25.9639  \n",
       "1                          75.0443  \n",
       "2                         116.9171  \n",
       "3                         146.8923  \n",
       "4                         151.4721  "
      ]
     },
     "execution_count": 73,
     "metadata": {},
     "output_type": "execute_result"
    }
   ],
   "source": [
    "import io\n",
    "dataRequired = pd.read_csv('F:/SIH/AustriaNew.csv')\n",
    "dataRequired.head()"
   ]
  },
  {
   "cell_type": "code",
   "execution_count": 74,
   "metadata": {
    "colab": {
     "base_uri": "https://localhost:8080/",
     "height": 34
    },
    "colab_type": "code",
    "id": "7zY44Rr_I8nc",
    "outputId": "a2109e89-1a56-440c-878b-b7d8e3a00c01"
   },
   "outputs": [
    {
     "data": {
      "text/plain": [
       "(17488, 11)"
      ]
     },
     "execution_count": 74,
     "metadata": {},
     "output_type": "execute_result"
    }
   ],
   "source": [
    "dataRequired.shape"
   ]
  },
  {
   "cell_type": "code",
   "execution_count": 75,
   "metadata": {
    "colab": {
     "base_uri": "https://localhost:8080/",
     "height": 282
    },
    "colab_type": "code",
    "id": "u1Vf30iAI8tx",
    "outputId": "51045569-6c6e-4480-fec7-7107e083cd5b"
   },
   "outputs": [
    {
     "data": {
      "text/plain": [
       "<matplotlib.collections.PathCollection at 0x2753b866288>"
      ]
     },
     "execution_count": 75,
     "metadata": {},
     "output_type": "execute_result"
    },
    {
     "data": {
      "image/png": "[encoded data removed]",
      "text/plain": [
       "<Figure size 432x288 with 1 Axes>"
      ]
     },
     "metadata": {
      "needs_background": "light"
     },
     "output_type": "display_data"
    }
   ],
   "source": [
    "plt.scatter(dataRequired['AT_windspeed_10m'],dataRequired['AT_wind_onshore_generation_actual'])"
   ]
  },
  {
   "cell_type": "markdown",
   "metadata": {
    "colab": {},
    "colab_type": "code",
    "id": "QvFQHR9EI8zk"
   },
   "source": [
    "Here's a plot between the wind speed and wind energy generated. Wind speed is a significant factor as the power output is proportional to it. We can roughly see this trend through the plot which validates that the weather predictions in the data are accurate. The data had quite a bit of deviation about the standard curve. It can be clearly attributed to variations in density of the air density, due to radiation changes throughout the year."
   ]
  },
  {
   "cell_type": "code",
   "execution_count": 76,
   "metadata": {
    "colab": {
     "base_uri": "https://localhost:8080/",
     "height": 265
    },
    "colab_type": "code",
    "id": "F7922B5WI85t",
    "outputId": "1d0e7594-8745-40c8-e91a-541f6be04477"
   },
   "outputs": [
    {
     "data": {
      "image/png": "[encoded data removed]",
      "text/plain": [
       "<Figure size 432x288 with 1 Axes>"
      ]
     },
     "metadata": {
      "needs_background": "light"
     },
     "output_type": "display_data"
    }
   ],
   "source": [
    "for i in dataRequired:\n",
    "  plt.ylabel(i)\n",
    "  plt.plot(dataRequired[i][:1000])"
   ]
  },
  {
   "cell_type": "code",
   "execution_count": 77,
   "metadata": {
    "colab": {},
    "colab_type": "code",
    "id": "E3IvX4nfLr9b"
   },
   "outputs": [],
   "source": [
    "#Converting the time series analysis problem into a supervised learning problem\n",
    "def seriesToSupervised(data, lookBack = 60, predCols = 1):\n",
    "  temp = data.copy()\n",
    "  temp['id'] = range(1, len(temp)+1)\n",
    "  temp = temp.iloc[: -lookBack, :]\n",
    "  temp.set_index('id', inplace = True)\n",
    "  predVal = data.copy()\n",
    "  predVal = predVal.iloc[lookBack:, predCols]\n",
    "  predVal.columns = ['Pred']\n",
    "  predVal = pd.DataFrame(predVal)\n",
    "  predVal['id'] = range(1, len(predVal)+1)\n",
    "  predVal.set_index('id', inplace = True)\n",
    "  finalDf = pd.concat([temp, predVal], axis = 1)\n",
    "  return finalDf"
   ]
  },
  {
   "cell_type": "markdown",
   "metadata": {
    "colab_type": "text",
    "id": "D6FsSUCkI9FI"
   },
   "source": [
    "# Solar energy output forecasting\n",
    "\n"
   ]
  },
  {
   "cell_type": "code",
   "execution_count": 78,
   "metadata": {
    "colab": {
     "base_uri": "https://localhost:8080/",
     "height": 296
    },
    "colab_type": "code",
    "id": "VDg6IGC1I9Kt",
    "outputId": "c712b32d-bdc5-4d76-fa38-7dab29ff90b7"
   },
   "outputs": [
    {
     "name": "stderr",
     "output_type": "stream",
     "text": [
      "C:\\Users\\Sakshee\\miniconda3\\envs\\tensorflow\\lib\\site-packages\\ipykernel_launcher.py:3: SettingWithCopyWarning: \n",
      "A value is trying to be set on a copy of a slice from a DataFrame.\n",
      "Try using .loc[row_indexer,col_indexer] = value instead\n",
      "\n",
      "See the caveats in the documentation: https://pandas.pydata.org/pandas-docs/stable/user_guide/indexing.html#returning-a-view-versus-a-copy\n",
      "  This is separate from the ipykernel package so we can avoid doing imports until\n"
     ]
    },
    {
     "data": {
      "text/html": [
       "<div>\n",
       "<style scoped>\n",
       "    .dataframe tbody tr th:only-of-type {\n",
       "        vertical-align: middle;\n",
       "    }\n",
       "\n",
       "    .dataframe tbody tr th {\n",
       "        vertical-align: top;\n",
       "    }\n",
       "\n",
       "    .dataframe thead th {\n",
       "        text-align: right;\n",
       "    }\n",
       "</style>\n",
       "<table border=\"1\" class=\"dataframe\">\n",
       "  <thead>\n",
       "    <tr style=\"text-align: right;\">\n",
       "      <th></th>\n",
       "      <th>AT_solar_generation_actual</th>\n",
       "      <th>AT_windspeed_10m</th>\n",
       "      <th>AT_temperature</th>\n",
       "      <th>AT_radiation_direct_horizontal</th>\n",
       "      <th>AT_radiation_diffuse_horizontal</th>\n",
       "      <th>pred</th>\n",
       "    </tr>\n",
       "  </thead>\n",
       "  <tbody>\n",
       "    <tr>\n",
       "      <th>0</th>\n",
       "      <td>2.0</td>\n",
       "      <td>3.27</td>\n",
       "      <td>-4.179</td>\n",
       "      <td>1.5614</td>\n",
       "      <td>25.9639</td>\n",
       "      <td>10.0</td>\n",
       "    </tr>\n",
       "    <tr>\n",
       "      <th>1</th>\n",
       "      <td>10.0</td>\n",
       "      <td>3.23</td>\n",
       "      <td>-2.807</td>\n",
       "      <td>7.5467</td>\n",
       "      <td>75.0443</td>\n",
       "      <td>21.0</td>\n",
       "    </tr>\n",
       "    <tr>\n",
       "      <th>2</th>\n",
       "      <td>21.0</td>\n",
       "      <td>3.22</td>\n",
       "      <td>-1.315</td>\n",
       "      <td>17.2073</td>\n",
       "      <td>116.9171</td>\n",
       "      <td>32.0</td>\n",
       "    </tr>\n",
       "    <tr>\n",
       "      <th>3</th>\n",
       "      <td>32.0</td>\n",
       "      <td>3.22</td>\n",
       "      <td>-0.051</td>\n",
       "      <td>35.4289</td>\n",
       "      <td>146.8923</td>\n",
       "      <td>37.0</td>\n",
       "    </tr>\n",
       "    <tr>\n",
       "      <th>4</th>\n",
       "      <td>37.0</td>\n",
       "      <td>3.00</td>\n",
       "      <td>0.791</td>\n",
       "      <td>58.5238</td>\n",
       "      <td>151.4721</td>\n",
       "      <td>35.0</td>\n",
       "    </tr>\n",
       "  </tbody>\n",
       "</table>\n",
       "</div>"
      ],
      "text/plain": [
       "   AT_solar_generation_actual  AT_windspeed_10m  AT_temperature  \\\n",
       "0                         2.0              3.27          -4.179   \n",
       "1                        10.0              3.23          -2.807   \n",
       "2                        21.0              3.22          -1.315   \n",
       "3                        32.0              3.22          -0.051   \n",
       "4                        37.0              3.00           0.791   \n",
       "\n",
       "   AT_radiation_direct_horizontal  AT_radiation_diffuse_horizontal  pred  \n",
       "0                          1.5614                          25.9639  10.0  \n",
       "1                          7.5467                          75.0443  21.0  \n",
       "2                         17.2073                         116.9171  32.0  \n",
       "3                         35.4289                         146.8923  37.0  \n",
       "4                         58.5238                         151.4721  35.0  "
      ]
     },
     "execution_count": 78,
     "metadata": {},
     "output_type": "execute_result"
    }
   ],
   "source": [
    "#Selecting the feature variables and target variables for a Multivariate LSTM\n",
    "dataPredSolarOutput=dataRequired[['AT_solar_generation_actual', 'AT_windspeed_10m', 'AT_temperature', 'AT_radiation_direct_horizontal', 'AT_radiation_diffuse_horizontal']]\n",
    "dataPredSolarOutput['pred'] = dataPredSolarOutput['AT_solar_generation_actual'].shift(-1)\n",
    "dataPredSolarOutput = dataPredSolarOutput.dropna()\n",
    "dataPredSolarOutput.head()"
   ]
  },
  {
   "cell_type": "code",
   "execution_count": 79,
   "metadata": {
    "colab": {},
    "colab_type": "code",
    "id": "uegSmV4GLZEa"
   },
   "outputs": [],
   "source": [
    "scalerOne = MinMaxScaler(feature_range=(0,1))\n",
    "solarScaled = scalerOne.fit_transform(dataPredSolarOutput.values)\n",
    "solarScaled = pd.DataFrame(solarScaled)"
   ]
  },
  {
   "cell_type": "code",
   "execution_count": 80,
   "metadata": {
    "colab": {
     "base_uri": "https://localhost:8080/",
     "height": 195
    },
    "colab_type": "code",
    "id": "S9lNKY-lLgEf",
    "outputId": "a1f70676-4397-4a2f-f949-9884e703d1cc"
   },
   "outputs": [
    {
     "data": {
      "text/html": [
       "<div>\n",
       "<style scoped>\n",
       "    .dataframe tbody tr th:only-of-type {\n",
       "        vertical-align: middle;\n",
       "    }\n",
       "\n",
       "    .dataframe tbody tr th {\n",
       "        vertical-align: top;\n",
       "    }\n",
       "\n",
       "    .dataframe thead th {\n",
       "        text-align: right;\n",
       "    }\n",
       "</style>\n",
       "<table border=\"1\" class=\"dataframe\">\n",
       "  <thead>\n",
       "    <tr style=\"text-align: right;\">\n",
       "      <th></th>\n",
       "      <th>0</th>\n",
       "      <th>1</th>\n",
       "      <th>2</th>\n",
       "      <th>3</th>\n",
       "      <th>4</th>\n",
       "      <th>5</th>\n",
       "    </tr>\n",
       "  </thead>\n",
       "  <tbody>\n",
       "    <tr>\n",
       "      <th>0</th>\n",
       "      <td>0.003279</td>\n",
       "      <td>0.285083</td>\n",
       "      <td>0.178747</td>\n",
       "      <td>0.001814</td>\n",
       "      <td>0.064377</td>\n",
       "      <td>0.016393</td>\n",
       "    </tr>\n",
       "    <tr>\n",
       "      <th>1</th>\n",
       "      <td>0.016393</td>\n",
       "      <td>0.280663</td>\n",
       "      <td>0.209402</td>\n",
       "      <td>0.008767</td>\n",
       "      <td>0.186070</td>\n",
       "      <td>0.034426</td>\n",
       "    </tr>\n",
       "    <tr>\n",
       "      <th>2</th>\n",
       "      <td>0.034426</td>\n",
       "      <td>0.279558</td>\n",
       "      <td>0.242738</td>\n",
       "      <td>0.019991</td>\n",
       "      <td>0.289892</td>\n",
       "      <td>0.052459</td>\n",
       "    </tr>\n",
       "    <tr>\n",
       "      <th>3</th>\n",
       "      <td>0.052459</td>\n",
       "      <td>0.279558</td>\n",
       "      <td>0.270980</td>\n",
       "      <td>0.041160</td>\n",
       "      <td>0.364214</td>\n",
       "      <td>0.060656</td>\n",
       "    </tr>\n",
       "    <tr>\n",
       "      <th>4</th>\n",
       "      <td>0.060656</td>\n",
       "      <td>0.255249</td>\n",
       "      <td>0.289794</td>\n",
       "      <td>0.067990</td>\n",
       "      <td>0.375570</td>\n",
       "      <td>0.057377</td>\n",
       "    </tr>\n",
       "  </tbody>\n",
       "</table>\n",
       "</div>"
      ],
      "text/plain": [
       "          0         1         2         3         4         5\n",
       "0  0.003279  0.285083  0.178747  0.001814  0.064377  0.016393\n",
       "1  0.016393  0.280663  0.209402  0.008767  0.186070  0.034426\n",
       "2  0.034426  0.279558  0.242738  0.019991  0.289892  0.052459\n",
       "3  0.052459  0.279558  0.270980  0.041160  0.364214  0.060656\n",
       "4  0.060656  0.255249  0.289794  0.067990  0.375570  0.057377"
      ]
     },
     "execution_count": 80,
     "metadata": {},
     "output_type": "execute_result"
    }
   ],
   "source": [
    "solarScaled.head()"
   ]
  },
  {
   "cell_type": "code",
   "execution_count": 81,
   "metadata": {
    "colab": {
     "base_uri": "https://localhost:8080/",
     "height": 225
    },
    "colab_type": "code",
    "id": "wvxLR6CzLmao",
    "outputId": "84956a61-de06-4843-eac5-5e9c386bf79e"
   },
   "outputs": [
    {
     "data": {
      "text/html": [
       "<div>\n",
       "<style scoped>\n",
       "    .dataframe tbody tr th:only-of-type {\n",
       "        vertical-align: middle;\n",
       "    }\n",
       "\n",
       "    .dataframe tbody tr th {\n",
       "        vertical-align: top;\n",
       "    }\n",
       "\n",
       "    .dataframe thead th {\n",
       "        text-align: right;\n",
       "    }\n",
       "</style>\n",
       "<table border=\"1\" class=\"dataframe\">\n",
       "  <thead>\n",
       "    <tr style=\"text-align: right;\">\n",
       "      <th></th>\n",
       "      <th>0</th>\n",
       "      <th>1</th>\n",
       "      <th>2</th>\n",
       "      <th>3</th>\n",
       "      <th>4</th>\n",
       "      <th>5</th>\n",
       "      <th>0</th>\n",
       "    </tr>\n",
       "    <tr>\n",
       "      <th>id</th>\n",
       "      <th></th>\n",
       "      <th></th>\n",
       "      <th></th>\n",
       "      <th></th>\n",
       "      <th></th>\n",
       "      <th></th>\n",
       "      <th></th>\n",
       "    </tr>\n",
       "  </thead>\n",
       "  <tbody>\n",
       "    <tr>\n",
       "      <th>1</th>\n",
       "      <td>0.003279</td>\n",
       "      <td>0.285083</td>\n",
       "      <td>0.178747</td>\n",
       "      <td>0.001814</td>\n",
       "      <td>0.064377</td>\n",
       "      <td>0.016393</td>\n",
       "      <td>0.052459</td>\n",
       "    </tr>\n",
       "    <tr>\n",
       "      <th>2</th>\n",
       "      <td>0.016393</td>\n",
       "      <td>0.280663</td>\n",
       "      <td>0.209402</td>\n",
       "      <td>0.008767</td>\n",
       "      <td>0.186070</td>\n",
       "      <td>0.034426</td>\n",
       "      <td>0.060656</td>\n",
       "    </tr>\n",
       "    <tr>\n",
       "      <th>3</th>\n",
       "      <td>0.034426</td>\n",
       "      <td>0.279558</td>\n",
       "      <td>0.242738</td>\n",
       "      <td>0.019991</td>\n",
       "      <td>0.289892</td>\n",
       "      <td>0.052459</td>\n",
       "      <td>0.057377</td>\n",
       "    </tr>\n",
       "    <tr>\n",
       "      <th>4</th>\n",
       "      <td>0.052459</td>\n",
       "      <td>0.279558</td>\n",
       "      <td>0.270980</td>\n",
       "      <td>0.041160</td>\n",
       "      <td>0.364214</td>\n",
       "      <td>0.060656</td>\n",
       "      <td>0.044262</td>\n",
       "    </tr>\n",
       "    <tr>\n",
       "      <th>5</th>\n",
       "      <td>0.060656</td>\n",
       "      <td>0.255249</td>\n",
       "      <td>0.289794</td>\n",
       "      <td>0.067990</td>\n",
       "      <td>0.375570</td>\n",
       "      <td>0.057377</td>\n",
       "      <td>0.022951</td>\n",
       "    </tr>\n",
       "  </tbody>\n",
       "</table>\n",
       "</div>"
      ],
      "text/plain": [
       "           0         1         2         3         4         5         0\n",
       "id                                                                      \n",
       "1   0.003279  0.285083  0.178747  0.001814  0.064377  0.016393  0.052459\n",
       "2   0.016393  0.280663  0.209402  0.008767  0.186070  0.034426  0.060656\n",
       "3   0.034426  0.279558  0.242738  0.019991  0.289892  0.052459  0.057377\n",
       "4   0.052459  0.279558  0.270980  0.041160  0.364214  0.060656  0.044262\n",
       "5   0.060656  0.255249  0.289794  0.067990  0.375570  0.057377  0.022951"
      ]
     },
     "execution_count": 81,
     "metadata": {},
     "output_type": "execute_result"
    }
   ],
   "source": [
    "arrDfSolar = seriesToSupervised(solarScaled, 3, 0)\n",
    "arrDfSolar.fillna(0, inplace = True)\n",
    "arrDfSolar.head()"
   ]
  },
  {
   "cell_type": "code",
   "execution_count": 82,
   "metadata": {
    "colab": {
     "base_uri": "https://localhost:8080/",
     "height": 34
    },
    "colab_type": "code",
    "id": "XmjYskxdLmpZ",
    "outputId": "e83d416f-9610-42a6-d7f1-a23a5c946f31"
   },
   "outputs": [
    {
     "data": {
      "text/plain": [
       "((13989, 6), (13989,), (3495, 6), (3495,))"
      ]
     },
     "execution_count": 82,
     "metadata": {},
     "output_type": "execute_result"
    }
   ],
   "source": [
    "# splitting and converting the data to right shape, around 80:20 ratio would be good for validation\n",
    "values = arrDfSolar.values\n",
    "trainSample = int(len(dataPredSolarOutput)*0.8)\n",
    "train = values[: trainSample, :]\n",
    "test = values[trainSample:, :]\n",
    "XTrain, yTrain = train[:, :-1], train[:, -1]\n",
    "XTest, yTest = test[:,:-1], test[:, -1]\n",
    "XTrain.shape, yTrain.shape, XTest.shape, yTest.shape"
   ]
  },
  {
   "cell_type": "code",
   "execution_count": 83,
   "metadata": {
    "colab": {
     "base_uri": "https://localhost:8080/",
     "height": 34
    },
    "colab_type": "code",
    "id": "Ir6w3JeCLmt9",
    "outputId": "681d578e-8a3b-4a81-fdb9-bca63bc145f7"
   },
   "outputs": [
    {
     "data": {
      "text/plain": [
       "((13989, 1, 6), (13989,), (3495, 1, 6), (3495,))"
      ]
     },
     "execution_count": 83,
     "metadata": {},
     "output_type": "execute_result"
    }
   ],
   "source": [
    "# We need a 3D data as (sample size, look back steps, input features)\n",
    "XTrain = XTrain.reshape((XTrain.shape[0], 1, XTrain.shape[1]))\n",
    "XTest = XTest.reshape((XTest.shape[0], 1, XTest.shape[1]))\n",
    "XTrain.shape, yTrain.shape, XTest.shape, yTest.shape"
   ]
  },
  {
   "cell_type": "code",
   "execution_count": 84,
   "metadata": {
    "colab": {
     "base_uri": "https://localhost:8080/",
     "height": 286
    },
    "colab_type": "code",
    "id": "6P1SmJaAL6cf",
    "outputId": "6d7428e6-9351-4fdf-a24c-06b07f77da05",
    "scrolled": false
   },
   "outputs": [
    {
     "name": "stdout",
     "output_type": "stream",
     "text": [
      "Model: \"sequential_4\"\n",
      "_________________________________________________________________\n",
      "Layer (type)                 Output Shape              Param #   \n",
      "=================================================================\n",
      "lstm_10 (LSTM)               (None, 1, 75)             24600     \n",
      "_________________________________________________________________\n",
      "lstm_11 (LSTM)               (None, 1, 50)             25200     \n",
      "_________________________________________________________________\n",
      "lstm_12 (LSTM)               (None, 30)                9720      \n",
      "_________________________________________________________________\n",
      "dense_4 (Dense)              (None, 1)                 31        \n",
      "=================================================================\n",
      "Total params: 59,551\n",
      "Trainable params: 59,551\n",
      "Non-trainable params: 0\n",
      "_________________________________________________________________\n"
     ]
    }
   ],
   "source": [
    "model = Sequential()\n",
    "model.add(LSTM(75, return_sequences = True, input_shape = (XTrain.shape[1], XTrain.shape[2])))\n",
    "model.add(LSTM(units = 50, return_sequences=True))\n",
    "model.add(LSTM(units = 30))\n",
    "model.add(Dense(units = 1))\n",
    "model.compile(loss = 'mae', optimizer = 'adam')\n",
    "model.summary()"
   ]
  },
  {
   "cell_type": "code",
   "execution_count": 85,
   "metadata": {
    "colab": {
     "base_uri": "https://localhost:8080/",
     "height": 1000
    },
    "colab_type": "code",
    "id": "8zDqx4xWL6ka",
    "outputId": "3186b51b-9f6d-4dcd-c6fa-546574a30226",
    "scrolled": false
   },
   "outputs": [
    {
     "name": "stdout",
     "output_type": "stream",
     "text": [
      "Train on 11191 samples, validate on 2798 samples\n",
      "Epoch 1/50\n",
      "11191/11191 [==============================] - 2s 202us/step - loss: 0.0769 - val_loss: 0.0757\n",
      "Epoch 2/50\n",
      "11191/11191 [==============================] - 1s 114us/step - loss: 0.0416 - val_loss: 0.0698\n",
      "Epoch 3/50\n",
      "11191/11191 [==============================] - 1s 115us/step - loss: 0.0369 - val_loss: 0.0625\n",
      "Epoch 4/50\n",
      "11191/11191 [==============================] - 1s 109us/step - loss: 0.0359 - val_loss: 0.0686\n",
      "Epoch 5/50\n",
      "11191/11191 [==============================] - 1s 126us/step - loss: 0.0349 - val_loss: 0.0570\n",
      "Epoch 6/50\n",
      "11191/11191 [==============================] - 1s 119us/step - loss: 0.0348 - val_loss: 0.0546\n",
      "Epoch 7/50\n",
      "11191/11191 [==============================] - 1s 113us/step - loss: 0.0343 - val_loss: 0.0544\n",
      "Epoch 8/50\n",
      "11191/11191 [==============================] - 2s 135us/step - loss: 0.0343 - val_loss: 0.0506\n",
      "Epoch 9/50\n",
      "11191/11191 [==============================] - 2s 147us/step - loss: 0.0342 - val_loss: 0.0579\n",
      "Epoch 10/50\n",
      "11191/11191 [==============================] - 1s 130us/step - loss: 0.0337 - val_loss: 0.0553\n",
      "Epoch 11/50\n",
      "11191/11191 [==============================] - 2s 157us/step - loss: 0.0333 - val_loss: 0.0517\n",
      "Epoch 12/50\n",
      "11191/11191 [==============================] - 2s 177us/step - loss: 0.0318 - val_loss: 0.0476\n",
      "Epoch 13/50\n",
      "11191/11191 [==============================] - 2s 205us/step - loss: 0.0304 - val_loss: 0.0461\n",
      "Epoch 14/50\n",
      "11191/11191 [==============================] - 2s 200us/step - loss: 0.0279 - val_loss: 0.0455\n",
      "Epoch 15/50\n",
      "11191/11191 [==============================] - 2s 170us/step - loss: 0.0273 - val_loss: 0.0421\n",
      "Epoch 16/50\n",
      "11191/11191 [==============================] - 2s 154us/step - loss: 0.0263 - val_loss: 0.0474\n",
      "Epoch 17/50\n",
      "11191/11191 [==============================] - 2s 167us/step - loss: 0.0258 - val_loss: 0.0364\n",
      "Epoch 18/50\n",
      "11191/11191 [==============================] - 2s 165us/step - loss: 0.0252 - val_loss: 0.0387\n",
      "Epoch 19/50\n",
      "11191/11191 [==============================] - 1s 130us/step - loss: 0.0240 - val_loss: 0.0355\n",
      "Epoch 20/50\n",
      "11191/11191 [==============================] - 1s 118us/step - loss: 0.0239 - val_loss: 0.0438\n",
      "Epoch 21/50\n",
      "11191/11191 [==============================] - 1s 118us/step - loss: 0.0230 - val_loss: 0.0378\n",
      "Epoch 22/50\n",
      "11191/11191 [==============================] - 2s 153us/step - loss: 0.0228 - val_loss: 0.0385\n",
      "Epoch 23/50\n",
      "11191/11191 [==============================] - 2s 151us/step - loss: 0.0233 - val_loss: 0.0408\n",
      "Epoch 24/50\n",
      "11191/11191 [==============================] - 2s 152us/step - loss: 0.0224 - val_loss: 0.0366\n",
      "Epoch 25/50\n",
      "11191/11191 [==============================] - 2s 151us/step - loss: 0.0223 - val_loss: 0.0347\n",
      "Epoch 26/50\n",
      "11191/11191 [==============================] - 2s 156us/step - loss: 0.0222 - val_loss: 0.0370\n",
      "Epoch 27/50\n",
      "11191/11191 [==============================] - 2s 158us/step - loss: 0.0222 - val_loss: 0.0343\n",
      "Epoch 28/50\n",
      "11191/11191 [==============================] - 2s 145us/step - loss: 0.0222 - val_loss: 0.0401\n",
      "Epoch 29/50\n",
      "11191/11191 [==============================] - 2s 144us/step - loss: 0.0217 - val_loss: 0.0341\n",
      "Epoch 30/50\n",
      "11191/11191 [==============================] - 1s 131us/step - loss: 0.0214 - val_loss: 0.0337\n",
      "Epoch 31/50\n",
      "11191/11191 [==============================] - 1s 122us/step - loss: 0.0216 - val_loss: 0.0361\n",
      "Epoch 32/50\n",
      "11191/11191 [==============================] - 1s 117us/step - loss: 0.0209 - val_loss: 0.0376\n",
      "Epoch 33/50\n",
      "11191/11191 [==============================] - 1s 118us/step - loss: 0.0210 - val_loss: 0.0354\n",
      "Epoch 34/50\n",
      "11191/11191 [==============================] - 1s 117us/step - loss: 0.0211 - val_loss: 0.0362\n",
      "Epoch 35/50\n",
      "11191/11191 [==============================] - 1s 118us/step - loss: 0.0208 - val_loss: 0.0317\n",
      "Epoch 36/50\n",
      "11191/11191 [==============================] - 1s 117us/step - loss: 0.0203 - val_loss: 0.0351\n",
      "Epoch 37/50\n",
      "11191/11191 [==============================] - 1s 116us/step - loss: 0.0202 - val_loss: 0.0397\n",
      "Epoch 38/50\n",
      "11191/11191 [==============================] - 1s 118us/step - loss: 0.0202 - val_loss: 0.0396\n",
      "Epoch 39/50\n",
      "11191/11191 [==============================] - 1s 115us/step - loss: 0.0202 - val_loss: 0.0363\n",
      "Epoch 40/50\n",
      "11191/11191 [==============================] - 1s 116us/step - loss: 0.0203 - val_loss: 0.0333\n",
      "Epoch 41/50\n",
      "11191/11191 [==============================] - 1s 119us/step - loss: 0.0198 - val_loss: 0.0391\n",
      "Epoch 42/50\n",
      "11191/11191 [==============================] - 1s 117us/step - loss: 0.0199 - val_loss: 0.0370\n",
      "Epoch 43/50\n",
      "11191/11191 [==============================] - 1s 116us/step - loss: 0.0197 - val_loss: 0.0368\n",
      "Epoch 44/50\n",
      "11191/11191 [==============================] - 1s 121us/step - loss: 0.0197 - val_loss: 0.0367\n",
      "Epoch 45/50\n",
      "11191/11191 [==============================] - 1s 131us/step - loss: 0.0195 - val_loss: 0.0343\n",
      "Epoch 46/50\n",
      "11191/11191 [==============================] - 1s 124us/step - loss: 0.0192 - val_loss: 0.0376\n",
      "Epoch 47/50\n",
      "11191/11191 [==============================] - 1s 119us/step - loss: 0.0194 - val_loss: 0.0352\n",
      "Epoch 48/50\n",
      "11191/11191 [==============================] - 1s 116us/step - loss: 0.0192 - val_loss: 0.0372\n",
      "Epoch 49/50\n",
      "11191/11191 [==============================] - 1s 131us/step - loss: 0.0187 - val_loss: 0.0351\n",
      "Epoch 50/50\n",
      "11191/11191 [==============================] - 2s 145us/step - loss: 0.0191 - val_loss: 0.0341\n"
     ]
    }
   ],
   "source": [
    "history = model.fit(XTrain, yTrain, epochs= 50, batch_size=32, validation_split = 0.2, shuffle = False)"
   ]
  },
  {
   "cell_type": "code",
   "execution_count": 86,
   "metadata": {
    "colab": {
     "base_uri": "https://localhost:8080/",
     "height": 67
    },
    "colab_type": "code",
    "id": "eMvjnWjcL6sD",
    "outputId": "808acdc3-9e9e-4090-e082-6d971c4b4816"
   },
   "outputs": [
    {
     "name": "stdout",
     "output_type": "stream",
     "text": [
      "Mean absolute error 16.986655944307604\n",
      "Mean squared error 786.923685728337\n",
      "R2_Score 0.9585867722433571\n"
     ]
    }
   ],
   "source": [
    "#Making predictions\n",
    "yPred = model.predict(XTest)\n",
    "XTest = XTest.reshape((XTest.shape[0],XTest.shape[2]))\n",
    "invyPred = np.concatenate((yPred, XTest[:, 1:]), axis = 1)\n",
    "invyPred = scalerOne.inverse_transform(invyPred)\n",
    "invyPred = invyPred[:, 0]\n",
    "\n",
    "yTest = yTest.reshape((len(yTest), 1))\n",
    "invyTest = np.concatenate((yTest, XTest[:, 1:]), axis = 1)\n",
    "invyTest = scalerOne.inverse_transform(invyTest)\n",
    "invyTest = invyTest[:, 0]\n",
    "\n",
    "print(f'Mean absolute error {mean_absolute_error(invyTest, invyPred)}')\n",
    "print(f'Mean squared error {mean_squared_error(invyTest, invyPred)}')\n",
    "print(f'R2_Score {r2_score(invyTest, invyPred)}')"
   ]
  },
  {
   "cell_type": "code",
   "execution_count": 87,
   "metadata": {
    "colab": {
     "base_uri": "https://localhost:8080/",
     "height": 285
    },
    "colab_type": "code",
    "id": "TvZkwEw-L60K",
    "outputId": "478088d7-dbbc-4265-e9ee-7b4c33695bf1"
   },
   "outputs": [
    {
     "data": {
      "text/plain": [
       "[<matplotlib.lines.Line2D at 0x27541c5ae08>]"
      ]
     },
     "execution_count": 87,
     "metadata": {},
     "output_type": "execute_result"
    },
    {
     "data": {
      "image/png": "[encoded data removed]",
      "text/plain": [
       "<Figure size 432x288 with 1 Axes>"
      ]
     },
     "metadata": {
      "needs_background": "light"
     },
     "output_type": "display_data"
    }
   ],
   "source": [
    "plt.plot(invyTest[:1000])\n",
    "plt.plot(invyPred[:1000])"
   ]
  },
  {
   "cell_type": "markdown",
   "metadata": {},
   "source": [
    "We observe that a 96% R2 score accurate solar energy forecasting is obtained. The graph is plotted between the test and predicted values. Since the solar output peaks during the day and becomes zero at night we see an oscillatory behaviour as depicted by the graph."
   ]
  },
  {
   "cell_type": "markdown",
   "metadata": {
    "colab_type": "text",
    "id": "FW8JQoYhI9QS"
   },
   "source": [
    "# Wind energy output forecasting\n"
   ]
  },
  {
   "cell_type": "code",
   "execution_count": 88,
   "metadata": {
    "colab": {
     "base_uri": "https://localhost:8080/",
     "height": 296
    },
    "colab_type": "code",
    "id": "3kL48Q-AI9W6",
    "outputId": "497d42c1-a595-49de-f1e3-2c3e70e84879"
   },
   "outputs": [
    {
     "name": "stderr",
     "output_type": "stream",
     "text": [
      "C:\\Users\\Sakshee\\miniconda3\\envs\\tensorflow\\lib\\site-packages\\ipykernel_launcher.py:3: SettingWithCopyWarning: \n",
      "A value is trying to be set on a copy of a slice from a DataFrame.\n",
      "Try using .loc[row_indexer,col_indexer] = value instead\n",
      "\n",
      "See the caveats in the documentation: https://pandas.pydata.org/pandas-docs/stable/user_guide/indexing.html#returning-a-view-versus-a-copy\n",
      "  This is separate from the ipykernel package so we can avoid doing imports until\n"
     ]
    },
    {
     "data": {
      "text/html": [
       "<div>\n",
       "<style scoped>\n",
       "    .dataframe tbody tr th:only-of-type {\n",
       "        vertical-align: middle;\n",
       "    }\n",
       "\n",
       "    .dataframe tbody tr th {\n",
       "        vertical-align: top;\n",
       "    }\n",
       "\n",
       "    .dataframe thead th {\n",
       "        text-align: right;\n",
       "    }\n",
       "</style>\n",
       "<table border=\"1\" class=\"dataframe\">\n",
       "  <thead>\n",
       "    <tr style=\"text-align: right;\">\n",
       "      <th></th>\n",
       "      <th>AT_wind_onshore_generation_actual</th>\n",
       "      <th>AT_windspeed_10m</th>\n",
       "      <th>AT_temperature</th>\n",
       "      <th>AT_radiation_direct_horizontal</th>\n",
       "      <th>AT_radiation_diffuse_horizontal</th>\n",
       "      <th>pred</th>\n",
       "    </tr>\n",
       "  </thead>\n",
       "  <tbody>\n",
       "    <tr>\n",
       "      <th>0</th>\n",
       "      <td>109.0</td>\n",
       "      <td>3.27</td>\n",
       "      <td>-4.179</td>\n",
       "      <td>1.5614</td>\n",
       "      <td>25.9639</td>\n",
       "      <td>146.0</td>\n",
       "    </tr>\n",
       "    <tr>\n",
       "      <th>1</th>\n",
       "      <td>146.0</td>\n",
       "      <td>3.23</td>\n",
       "      <td>-2.807</td>\n",
       "      <td>7.5467</td>\n",
       "      <td>75.0443</td>\n",
       "      <td>146.0</td>\n",
       "    </tr>\n",
       "    <tr>\n",
       "      <th>2</th>\n",
       "      <td>146.0</td>\n",
       "      <td>3.22</td>\n",
       "      <td>-1.315</td>\n",
       "      <td>17.2073</td>\n",
       "      <td>116.9171</td>\n",
       "      <td>158.0</td>\n",
       "    </tr>\n",
       "    <tr>\n",
       "      <th>3</th>\n",
       "      <td>158.0</td>\n",
       "      <td>3.22</td>\n",
       "      <td>-0.051</td>\n",
       "      <td>35.4289</td>\n",
       "      <td>146.8923</td>\n",
       "      <td>187.0</td>\n",
       "    </tr>\n",
       "    <tr>\n",
       "      <th>4</th>\n",
       "      <td>187.0</td>\n",
       "      <td>3.00</td>\n",
       "      <td>0.791</td>\n",
       "      <td>58.5238</td>\n",
       "      <td>151.4721</td>\n",
       "      <td>244.0</td>\n",
       "    </tr>\n",
       "  </tbody>\n",
       "</table>\n",
       "</div>"
      ],
      "text/plain": [
       "   AT_wind_onshore_generation_actual  AT_windspeed_10m  AT_temperature  \\\n",
       "0                              109.0              3.27          -4.179   \n",
       "1                              146.0              3.23          -2.807   \n",
       "2                              146.0              3.22          -1.315   \n",
       "3                              158.0              3.22          -0.051   \n",
       "4                              187.0              3.00           0.791   \n",
       "\n",
       "   AT_radiation_direct_horizontal  AT_radiation_diffuse_horizontal   pred  \n",
       "0                          1.5614                          25.9639  146.0  \n",
       "1                          7.5467                          75.0443  146.0  \n",
       "2                         17.2073                         116.9171  158.0  \n",
       "3                         35.4289                         146.8923  187.0  \n",
       "4                         58.5238                         151.4721  244.0  "
      ]
     },
     "execution_count": 88,
     "metadata": {},
     "output_type": "execute_result"
    }
   ],
   "source": [
    "#Selecting the feature variables and target variables for a Multivariate LSTM\n",
    "dataPredWindOutput = dataRequired[['AT_wind_onshore_generation_actual', 'AT_windspeed_10m', 'AT_temperature', 'AT_radiation_direct_horizontal', 'AT_radiation_diffuse_horizontal']]\n",
    "dataPredWindOutput['pred'] = dataPredWindOutput['AT_wind_onshore_generation_actual'].shift(-1)\n",
    "dataPredWindOutput = dataPredWindOutput.dropna()\n",
    "dataPredWindOutput.head()"
   ]
  },
  {
   "cell_type": "code",
   "execution_count": 89,
   "metadata": {
    "colab": {
     "base_uri": "https://localhost:8080/",
     "height": 195
    },
    "colab_type": "code",
    "id": "MhKAIeURMinY",
    "outputId": "5d21ef98-e213-40a4-c30f-c7424c523625"
   },
   "outputs": [
    {
     "data": {
      "text/html": [
       "<div>\n",
       "<style scoped>\n",
       "    .dataframe tbody tr th:only-of-type {\n",
       "        vertical-align: middle;\n",
       "    }\n",
       "\n",
       "    .dataframe tbody tr th {\n",
       "        vertical-align: top;\n",
       "    }\n",
       "\n",
       "    .dataframe thead th {\n",
       "        text-align: right;\n",
       "    }\n",
       "</style>\n",
       "<table border=\"1\" class=\"dataframe\">\n",
       "  <thead>\n",
       "    <tr style=\"text-align: right;\">\n",
       "      <th></th>\n",
       "      <th>0</th>\n",
       "      <th>1</th>\n",
       "      <th>2</th>\n",
       "      <th>3</th>\n",
       "      <th>4</th>\n",
       "      <th>5</th>\n",
       "    </tr>\n",
       "  </thead>\n",
       "  <tbody>\n",
       "    <tr>\n",
       "      <th>0</th>\n",
       "      <td>0.042762</td>\n",
       "      <td>0.285083</td>\n",
       "      <td>0.178747</td>\n",
       "      <td>0.001814</td>\n",
       "      <td>0.064377</td>\n",
       "      <td>0.057277</td>\n",
       "    </tr>\n",
       "    <tr>\n",
       "      <th>1</th>\n",
       "      <td>0.057277</td>\n",
       "      <td>0.280663</td>\n",
       "      <td>0.209402</td>\n",
       "      <td>0.008767</td>\n",
       "      <td>0.186070</td>\n",
       "      <td>0.057277</td>\n",
       "    </tr>\n",
       "    <tr>\n",
       "      <th>2</th>\n",
       "      <td>0.057277</td>\n",
       "      <td>0.279558</td>\n",
       "      <td>0.242738</td>\n",
       "      <td>0.019991</td>\n",
       "      <td>0.289892</td>\n",
       "      <td>0.061985</td>\n",
       "    </tr>\n",
       "    <tr>\n",
       "      <th>3</th>\n",
       "      <td>0.061985</td>\n",
       "      <td>0.279558</td>\n",
       "      <td>0.270980</td>\n",
       "      <td>0.041160</td>\n",
       "      <td>0.364214</td>\n",
       "      <td>0.073362</td>\n",
       "    </tr>\n",
       "    <tr>\n",
       "      <th>4</th>\n",
       "      <td>0.073362</td>\n",
       "      <td>0.255249</td>\n",
       "      <td>0.289794</td>\n",
       "      <td>0.067990</td>\n",
       "      <td>0.375570</td>\n",
       "      <td>0.095724</td>\n",
       "    </tr>\n",
       "  </tbody>\n",
       "</table>\n",
       "</div>"
      ],
      "text/plain": [
       "          0         1         2         3         4         5\n",
       "0  0.042762  0.285083  0.178747  0.001814  0.064377  0.057277\n",
       "1  0.057277  0.280663  0.209402  0.008767  0.186070  0.057277\n",
       "2  0.057277  0.279558  0.242738  0.019991  0.289892  0.061985\n",
       "3  0.061985  0.279558  0.270980  0.041160  0.364214  0.073362\n",
       "4  0.073362  0.255249  0.289794  0.067990  0.375570  0.095724"
      ]
     },
     "execution_count": 89,
     "metadata": {},
     "output_type": "execute_result"
    }
   ],
   "source": [
    "scalerTwo = MinMaxScaler(feature_range=(0,1))\n",
    "windScaled = scalerTwo.fit_transform(dataPredWindOutput.values)\n",
    "windScaled = pd.DataFrame(windScaled)\n",
    "windScaled.head()"
   ]
  },
  {
   "cell_type": "code",
   "execution_count": 90,
   "metadata": {
    "colab": {
     "base_uri": "https://localhost:8080/",
     "height": 225
    },
    "colab_type": "code",
    "id": "nL1QfKoFMi26",
    "outputId": "418116b3-b4e6-4737-f835-4fe4c6a59675"
   },
   "outputs": [
    {
     "data": {
      "text/html": [
       "<div>\n",
       "<style scoped>\n",
       "    .dataframe tbody tr th:only-of-type {\n",
       "        vertical-align: middle;\n",
       "    }\n",
       "\n",
       "    .dataframe tbody tr th {\n",
       "        vertical-align: top;\n",
       "    }\n",
       "\n",
       "    .dataframe thead th {\n",
       "        text-align: right;\n",
       "    }\n",
       "</style>\n",
       "<table border=\"1\" class=\"dataframe\">\n",
       "  <thead>\n",
       "    <tr style=\"text-align: right;\">\n",
       "      <th></th>\n",
       "      <th>0</th>\n",
       "      <th>1</th>\n",
       "      <th>2</th>\n",
       "      <th>3</th>\n",
       "      <th>4</th>\n",
       "      <th>5</th>\n",
       "      <th>0</th>\n",
       "    </tr>\n",
       "    <tr>\n",
       "      <th>id</th>\n",
       "      <th></th>\n",
       "      <th></th>\n",
       "      <th></th>\n",
       "      <th></th>\n",
       "      <th></th>\n",
       "      <th></th>\n",
       "      <th></th>\n",
       "    </tr>\n",
       "  </thead>\n",
       "  <tbody>\n",
       "    <tr>\n",
       "      <th>1</th>\n",
       "      <td>0.042762</td>\n",
       "      <td>0.285083</td>\n",
       "      <td>0.178747</td>\n",
       "      <td>0.001814</td>\n",
       "      <td>0.064377</td>\n",
       "      <td>0.057277</td>\n",
       "      <td>0.061985</td>\n",
       "    </tr>\n",
       "    <tr>\n",
       "      <th>2</th>\n",
       "      <td>0.057277</td>\n",
       "      <td>0.280663</td>\n",
       "      <td>0.209402</td>\n",
       "      <td>0.008767</td>\n",
       "      <td>0.186070</td>\n",
       "      <td>0.057277</td>\n",
       "      <td>0.073362</td>\n",
       "    </tr>\n",
       "    <tr>\n",
       "      <th>3</th>\n",
       "      <td>0.057277</td>\n",
       "      <td>0.279558</td>\n",
       "      <td>0.242738</td>\n",
       "      <td>0.019991</td>\n",
       "      <td>0.289892</td>\n",
       "      <td>0.061985</td>\n",
       "      <td>0.095724</td>\n",
       "    </tr>\n",
       "    <tr>\n",
       "      <th>4</th>\n",
       "      <td>0.061985</td>\n",
       "      <td>0.279558</td>\n",
       "      <td>0.270980</td>\n",
       "      <td>0.041160</td>\n",
       "      <td>0.364214</td>\n",
       "      <td>0.073362</td>\n",
       "      <td>0.117301</td>\n",
       "    </tr>\n",
       "    <tr>\n",
       "      <th>5</th>\n",
       "      <td>0.073362</td>\n",
       "      <td>0.255249</td>\n",
       "      <td>0.289794</td>\n",
       "      <td>0.067990</td>\n",
       "      <td>0.375570</td>\n",
       "      <td>0.095724</td>\n",
       "      <td>0.128286</td>\n",
       "    </tr>\n",
       "  </tbody>\n",
       "</table>\n",
       "</div>"
      ],
      "text/plain": [
       "           0         1         2         3         4         5         0\n",
       "id                                                                      \n",
       "1   0.042762  0.285083  0.178747  0.001814  0.064377  0.057277  0.061985\n",
       "2   0.057277  0.280663  0.209402  0.008767  0.186070  0.057277  0.073362\n",
       "3   0.057277  0.279558  0.242738  0.019991  0.289892  0.061985  0.095724\n",
       "4   0.061985  0.279558  0.270980  0.041160  0.364214  0.073362  0.117301\n",
       "5   0.073362  0.255249  0.289794  0.067990  0.375570  0.095724  0.128286"
      ]
     },
     "execution_count": 90,
     "metadata": {},
     "output_type": "execute_result"
    }
   ],
   "source": [
    "arrDfWind = seriesToSupervised(windScaled, 3, 0)\n",
    "arrDfWind.fillna(0, inplace = True)\n",
    "arrDfWind.head()"
   ]
  },
  {
   "cell_type": "code",
   "execution_count": 91,
   "metadata": {
    "colab": {
     "base_uri": "https://localhost:8080/",
     "height": 34
    },
    "colab_type": "code",
    "id": "El9LI-0UMi86",
    "outputId": "bda5999c-15fe-480f-c66b-a71324406da9"
   },
   "outputs": [
    {
     "data": {
      "text/plain": [
       "((13989, 6), (13989,), (3495, 6), (3495,))"
      ]
     },
     "execution_count": 91,
     "metadata": {},
     "output_type": "execute_result"
    }
   ],
   "source": [
    "values = arrDfWind.values\n",
    "trainSample = int(len(dataPredWindOutput)*0.8)\n",
    "train = values[: trainSample, :]\n",
    "test = values[trainSample:, :]\n",
    "XTrain, yTrain = train[:, :-1], train[:, -1]\n",
    "XTest, yTest = test[:,:-1], test[:, -1]\n",
    "XTrain.shape, yTrain.shape, XTest.shape, yTest.shape"
   ]
  },
  {
   "cell_type": "code",
   "execution_count": 92,
   "metadata": {
    "colab": {
     "base_uri": "https://localhost:8080/",
     "height": 34
    },
    "colab_type": "code",
    "id": "mr96m6zTMjDQ",
    "outputId": "18f92995-c928-47da-88c1-f0294c36dc32"
   },
   "outputs": [
    {
     "data": {
      "text/plain": [
       "((13989, 1, 6), (13989,), (3495, 1, 6), (3495,))"
      ]
     },
     "execution_count": 92,
     "metadata": {},
     "output_type": "execute_result"
    }
   ],
   "source": [
    "XTrain = XTrain.reshape((XTrain.shape[0], 1, XTrain.shape[1]))\n",
    "XTest = XTest.reshape((XTest.shape[0], 1, XTest.shape[1]))\n",
    "XTrain.shape, yTrain.shape, XTest.shape, yTest.shape"
   ]
  },
  {
   "cell_type": "code",
   "execution_count": 93,
   "metadata": {
    "colab": {
     "base_uri": "https://localhost:8080/",
     "height": 286
    },
    "colab_type": "code",
    "id": "goDWzIldMjHr",
    "outputId": "0ecccabb-6129-4bd8-9a1b-311abfadbcc6"
   },
   "outputs": [
    {
     "name": "stdout",
     "output_type": "stream",
     "text": [
      "Model: \"sequential_5\"\n",
      "_________________________________________________________________\n",
      "Layer (type)                 Output Shape              Param #   \n",
      "=================================================================\n",
      "lstm_13 (LSTM)               (None, 1, 128)            69120     \n",
      "_________________________________________________________________\n",
      "lstm_14 (LSTM)               (None, 1, 64)             49408     \n",
      "_________________________________________________________________\n",
      "lstm_15 (LSTM)               (None, 32)                12416     \n",
      "_________________________________________________________________\n",
      "dense_5 (Dense)              (None, 1)                 33        \n",
      "=================================================================\n",
      "Total params: 130,977\n",
      "Trainable params: 130,977\n",
      "Non-trainable params: 0\n",
      "_________________________________________________________________\n"
     ]
    }
   ],
   "source": [
    "modelOne = Sequential()\n",
    "modelOne.add(LSTM(128, return_sequences = True, input_shape = (XTrain.shape[1], XTrain.shape[2])))\n",
    "modelOne.add(LSTM(units = 64, return_sequences=True))\n",
    "modelOne.add(LSTM(units = 32))\n",
    "modelOne.add(Dense(units = 1))\n",
    "modelOne.compile(loss = 'mae', optimizer = 'adam')\n",
    "modelOne.summary()"
   ]
  },
  {
   "cell_type": "code",
   "execution_count": 94,
   "metadata": {
    "colab": {
     "base_uri": "https://localhost:8080/",
     "height": 1000
    },
    "colab_type": "code",
    "id": "X_wsLWLXMjMn",
    "outputId": "d4a8afe6-5ddd-485f-bf33-d9591572180a",
    "scrolled": false
   },
   "outputs": [
    {
     "name": "stdout",
     "output_type": "stream",
     "text": [
      "Train on 11191 samples, validate on 2798 samples\n",
      "Epoch 1/50\n",
      "11191/11191 [==============================] - 5s 449us/step - loss: 0.0864 - val_loss: 0.0610\n",
      "Epoch 2/50\n",
      "11191/11191 [==============================] - 2s 193us/step - loss: 0.0589 - val_loss: 0.0559\n",
      "Epoch 3/50\n",
      "11191/11191 [==============================] - 2s 177us/step - loss: 0.0558 - val_loss: 0.0533\n",
      "Epoch 4/50\n",
      "11191/11191 [==============================] - 2s 164us/step - loss: 0.0536 - val_loss: 0.0526\n",
      "Epoch 5/50\n",
      "11191/11191 [==============================] - 2s 164us/step - loss: 0.0524 - val_loss: 0.0508\n",
      "Epoch 6/50\n",
      "11191/11191 [==============================] - 2s 175us/step - loss: 0.0513 - val_loss: 0.0517\n",
      "Epoch 7/50\n",
      "11191/11191 [==============================] - 2s 175us/step - loss: 0.0505 - val_loss: 0.0533\n",
      "Epoch 8/50\n",
      "11191/11191 [==============================] - 2s 159us/step - loss: 0.0503 - val_loss: 0.0537\n",
      "Epoch 9/50\n",
      "11191/11191 [==============================] - 2s 155us/step - loss: 0.0499 - val_loss: 0.0568\n",
      "Epoch 10/50\n",
      "11191/11191 [==============================] - 2s 151us/step - loss: 0.0496 - val_loss: 0.0552\n",
      "Epoch 11/50\n",
      "11191/11191 [==============================] - 2s 161us/step - loss: 0.0496 - val_loss: 0.0520\n",
      "Epoch 12/50\n",
      "11191/11191 [==============================] - 2s 172us/step - loss: 0.0494 - val_loss: 0.0522\n",
      "Epoch 13/50\n",
      "11191/11191 [==============================] - 2s 179us/step - loss: 0.0493 - val_loss: 0.0516\n",
      "Epoch 14/50\n",
      "11191/11191 [==============================] - 2s 170us/step - loss: 0.0492 - val_loss: 0.0514\n",
      "Epoch 15/50\n",
      "11191/11191 [==============================] - 2s 158us/step - loss: 0.0493 - val_loss: 0.0516\n",
      "Epoch 16/50\n",
      "11191/11191 [==============================] - 2s 155us/step - loss: 0.0493 - val_loss: 0.0513\n",
      "Epoch 17/50\n",
      "11191/11191 [==============================] - 2s 156us/step - loss: 0.0493 - val_loss: 0.0514\n",
      "Epoch 18/50\n",
      "11191/11191 [==============================] - 2s 155us/step - loss: 0.0491 - val_loss: 0.0509\n",
      "Epoch 19/50\n",
      "11191/11191 [==============================] - 2s 196us/step - loss: 0.0489 - val_loss: 0.0512\n",
      "Epoch 20/50\n",
      "11191/11191 [==============================] - 3s 235us/step - loss: 0.0490 - val_loss: 0.0519\n",
      "Epoch 21/50\n",
      "11191/11191 [==============================] - 2s 209us/step - loss: 0.0488 - val_loss: 0.0512\n",
      "Epoch 22/50\n",
      "11191/11191 [==============================] - 2s 170us/step - loss: 0.0488 - val_loss: 0.0513\n",
      "Epoch 23/50\n",
      "11191/11191 [==============================] - 2s 181us/step - loss: 0.0487 - val_loss: 0.0510\n",
      "Epoch 24/50\n",
      "11191/11191 [==============================] - 2s 191us/step - loss: 0.0488 - val_loss: 0.0510\n",
      "Epoch 25/50\n",
      "11191/11191 [==============================] - 2s 169us/step - loss: 0.0487 - val_loss: 0.0512\n",
      "Epoch 26/50\n",
      "11191/11191 [==============================] - 2s 162us/step - loss: 0.0486 - val_loss: 0.0514\n",
      "Epoch 27/50\n",
      "11191/11191 [==============================] - 2s 169us/step - loss: 0.0485 - val_loss: 0.0513\n",
      "Epoch 28/50\n",
      "11191/11191 [==============================] - 2s 185us/step - loss: 0.0485 - val_loss: 0.0510\n",
      "Epoch 29/50\n",
      "11191/11191 [==============================] - 2s 190us/step - loss: 0.0485 - val_loss: 0.0509\n",
      "Epoch 30/50\n",
      "11191/11191 [==============================] - 2s 217us/step - loss: 0.0485 - val_loss: 0.0508\n",
      "Epoch 31/50\n",
      "11191/11191 [==============================] - 2s 161us/step - loss: 0.0483 - val_loss: 0.0512\n",
      "Epoch 32/50\n",
      "11191/11191 [==============================] - 2s 159us/step - loss: 0.0484 - val_loss: 0.0506\n",
      "Epoch 33/50\n",
      "11191/11191 [==============================] - 2s 171us/step - loss: 0.0483 - val_loss: 0.0512\n",
      "Epoch 34/50\n",
      "11191/11191 [==============================] - 2s 184us/step - loss: 0.0484 - val_loss: 0.0507\n",
      "Epoch 35/50\n",
      "11191/11191 [==============================] - 2s 176us/step - loss: 0.0483 - val_loss: 0.0505\n",
      "Epoch 36/50\n",
      "11191/11191 [==============================] - 2s 162us/step - loss: 0.0482 - val_loss: 0.0508\n",
      "Epoch 37/50\n",
      "11191/11191 [==============================] - 2s 180us/step - loss: 0.0482 - val_loss: 0.0505\n",
      "Epoch 38/50\n",
      "11191/11191 [==============================] - 2s 174us/step - loss: 0.0481 - val_loss: 0.0509\n",
      "Epoch 39/50\n",
      "11191/11191 [==============================] - 2s 157us/step - loss: 0.0482 - val_loss: 0.0509\n",
      "Epoch 40/50\n",
      "11191/11191 [==============================] - 2s 158us/step - loss: 0.0482 - val_loss: 0.0506\n",
      "Epoch 41/50\n",
      "11191/11191 [==============================] - 2s 152us/step - loss: 0.0481 - val_loss: 0.0505\n",
      "Epoch 42/50\n",
      "11191/11191 [==============================] - 2s 157us/step - loss: 0.0481 - val_loss: 0.0505\n",
      "Epoch 43/50\n",
      "11191/11191 [==============================] - 2s 154us/step - loss: 0.0481 - val_loss: 0.0505\n",
      "Epoch 44/50\n",
      "11191/11191 [==============================] - 2s 157us/step - loss: 0.0481 - val_loss: 0.0504\n",
      "Epoch 45/50\n",
      "11191/11191 [==============================] - 2s 168us/step - loss: 0.0480 - val_loss: 0.0504\n",
      "Epoch 46/50\n",
      "11191/11191 [==============================] - 2s 171us/step - loss: 0.0481 - val_loss: 0.0504\n",
      "Epoch 47/50\n",
      "11191/11191 [==============================] - 2s 156us/step - loss: 0.0481 - val_loss: 0.0503\n",
      "Epoch 48/50\n",
      "11191/11191 [==============================] - 2s 154us/step - loss: 0.0480 - val_loss: 0.0503\n",
      "Epoch 49/50\n",
      "11191/11191 [==============================] - 2s 162us/step - loss: 0.0480 - val_loss: 0.0502\n",
      "Epoch 50/50\n",
      "11191/11191 [==============================] - 2s 158us/step - loss: 0.0480 - val_loss: 0.0504\n"
     ]
    }
   ],
   "source": [
    "history = modelOne.fit(XTrain, yTrain, epochs= 50, batch_size=32, validation_split = 0.2, shuffle = False)"
   ]
  },
  {
   "cell_type": "code",
   "execution_count": 95,
   "metadata": {
    "colab": {
     "base_uri": "https://localhost:8080/",
     "height": 67
    },
    "colab_type": "code",
    "id": "fJsH_unHMjS0",
    "outputId": "a2d61e64-07b4-4325-9be1-8aea58b09ebf"
   },
   "outputs": [
    {
     "name": "stdout",
     "output_type": "stream",
     "text": [
      "Mean absolute error 107.69218147907283\n",
      "Mean squared error 28127.905770194055\n",
      "R2_Score 0.9295016949836353\n"
     ]
    }
   ],
   "source": [
    "#Making predictions\n",
    "yPred = modelOne.predict(XTest)\n",
    "XTest = XTest.reshape((XTest.shape[0],XTest.shape[2]))\n",
    "invyPred = np.concatenate((yPred, XTest[:, 1:]), axis = 1)\n",
    "invyPred = scalerTwo.inverse_transform(invyPred)\n",
    "invyPred = invyPred[:, 0]\n",
    "\n",
    "yTest = yTest.reshape((len(yTest), 1))\n",
    "invyTest = np.concatenate((yTest, XTest[:, 1:]), axis = 1)\n",
    "invyTest = scalerTwo.inverse_transform(invyTest)\n",
    "invyTest = invyTest[:, 0]\n",
    "\n",
    "print(f'Mean absolute error {mean_absolute_error(invyTest, invyPred)}')\n",
    "print(f'Mean squared error {mean_squared_error(invyTest, invyPred)}')\n",
    "print(f'R2_Score {r2_score(invyTest, invyPred)}')"
   ]
  },
  {
   "cell_type": "code",
   "execution_count": 96,
   "metadata": {
    "colab": {
     "base_uri": "https://localhost:8080/",
     "height": 282
    },
    "colab_type": "code",
    "id": "HOt2n2MaMjYV",
    "outputId": "95cbe8ab-19cc-4347-89d6-ad16acb37c92"
   },
   "outputs": [
    {
     "data": {
      "text/plain": [
       "[<matplotlib.lines.Line2D at 0x275465b7708>]"
      ]
     },
     "execution_count": 96,
     "metadata": {},
     "output_type": "execute_result"
    },
    {
     "data": {
      "image/png": "[encoded data removed]",
      "text/plain": [
       "<Figure size 432x288 with 1 Axes>"
      ]
     },
     "metadata": {
      "needs_background": "light"
     },
     "output_type": "display_data"
    }
   ],
   "source": [
    "plt.plot(invyTest[:1000])\n",
    "plt.plot(invyPred[:1000])"
   ]
  },
  {
   "cell_type": "markdown",
   "metadata": {},
   "source": [
    "Training our model gave us 93% R2 accuracy. The wind energy varies because of a lot of factors, that aren't easily ascertained, windspeed, unlike radiation varies as it varies during the day and cannot be explained. But we can see from the plot that the predicted values have a good accuracy and similar trends."
   ]
  },
  {
   "cell_type": "markdown",
   "metadata": {
    "colab_type": "text",
    "id": "nPmsz5kAI9cZ"
   },
   "source": [
    "# Demand forecasting model\n",
    "\n"
   ]
  },
  {
   "cell_type": "code",
   "execution_count": 97,
   "metadata": {
    "colab": {
     "base_uri": "https://localhost:8080/",
     "height": 316
    },
    "colab_type": "code",
    "id": "2G8yjUffI9im",
    "outputId": "72d1c088-90db-466c-dc1c-3001d1a03466"
   },
   "outputs": [
    {
     "name": "stderr",
     "output_type": "stream",
     "text": [
      "C:\\Users\\Sakshee\\miniconda3\\envs\\tensorflow\\lib\\site-packages\\ipykernel_launcher.py:3: SettingWithCopyWarning: \n",
      "A value is trying to be set on a copy of a slice from a DataFrame.\n",
      "Try using .loc[row_indexer,col_indexer] = value instead\n",
      "\n",
      "See the caveats in the documentation: https://pandas.pydata.org/pandas-docs/stable/user_guide/indexing.html#returning-a-view-versus-a-copy\n",
      "  This is separate from the ipykernel package so we can avoid doing imports until\n"
     ]
    },
    {
     "data": {
      "text/html": [
       "<div>\n",
       "<style scoped>\n",
       "    .dataframe tbody tr th:only-of-type {\n",
       "        vertical-align: middle;\n",
       "    }\n",
       "\n",
       "    .dataframe tbody tr th {\n",
       "        vertical-align: top;\n",
       "    }\n",
       "\n",
       "    .dataframe thead th {\n",
       "        text-align: right;\n",
       "    }\n",
       "</style>\n",
       "<table border=\"1\" class=\"dataframe\">\n",
       "  <thead>\n",
       "    <tr style=\"text-align: right;\">\n",
       "      <th></th>\n",
       "      <th>AT_load_actual_entsoe_power_statistics</th>\n",
       "      <th>AT_windspeed_10m</th>\n",
       "      <th>AT_temperature</th>\n",
       "      <th>AT_radiation_direct_horizontal</th>\n",
       "      <th>AT_radiation_diffuse_horizontal</th>\n",
       "      <th>pred</th>\n",
       "    </tr>\n",
       "  </thead>\n",
       "  <tbody>\n",
       "    <tr>\n",
       "      <th>0</th>\n",
       "      <td>7035.0</td>\n",
       "      <td>3.27</td>\n",
       "      <td>-4.179</td>\n",
       "      <td>1.5614</td>\n",
       "      <td>25.9639</td>\n",
       "      <td>7394.0</td>\n",
       "    </tr>\n",
       "    <tr>\n",
       "      <th>1</th>\n",
       "      <td>7394.0</td>\n",
       "      <td>3.23</td>\n",
       "      <td>-2.807</td>\n",
       "      <td>7.5467</td>\n",
       "      <td>75.0443</td>\n",
       "      <td>7770.0</td>\n",
       "    </tr>\n",
       "    <tr>\n",
       "      <th>2</th>\n",
       "      <td>7770.0</td>\n",
       "      <td>3.22</td>\n",
       "      <td>-1.315</td>\n",
       "      <td>17.2073</td>\n",
       "      <td>116.9171</td>\n",
       "      <td>7820.0</td>\n",
       "    </tr>\n",
       "    <tr>\n",
       "      <th>3</th>\n",
       "      <td>7820.0</td>\n",
       "      <td>3.22</td>\n",
       "      <td>-0.051</td>\n",
       "      <td>35.4289</td>\n",
       "      <td>146.8923</td>\n",
       "      <td>7694.0</td>\n",
       "    </tr>\n",
       "    <tr>\n",
       "      <th>4</th>\n",
       "      <td>7694.0</td>\n",
       "      <td>3.00</td>\n",
       "      <td>0.791</td>\n",
       "      <td>58.5238</td>\n",
       "      <td>151.4721</td>\n",
       "      <td>7565.0</td>\n",
       "    </tr>\n",
       "  </tbody>\n",
       "</table>\n",
       "</div>"
      ],
      "text/plain": [
       "   AT_load_actual_entsoe_power_statistics  AT_windspeed_10m  AT_temperature  \\\n",
       "0                                  7035.0              3.27          -4.179   \n",
       "1                                  7394.0              3.23          -2.807   \n",
       "2                                  7770.0              3.22          -1.315   \n",
       "3                                  7820.0              3.22          -0.051   \n",
       "4                                  7694.0              3.00           0.791   \n",
       "\n",
       "   AT_radiation_direct_horizontal  AT_radiation_diffuse_horizontal    pred  \n",
       "0                          1.5614                          25.9639  7394.0  \n",
       "1                          7.5467                          75.0443  7770.0  \n",
       "2                         17.2073                         116.9171  7820.0  \n",
       "3                         35.4289                         146.8923  7694.0  \n",
       "4                         58.5238                         151.4721  7565.0  "
      ]
     },
     "execution_count": 97,
     "metadata": {},
     "output_type": "execute_result"
    }
   ],
   "source": [
    "#Selecting the feature variables and target variables for a Multivariate LSTM\n",
    "dataPredDemand = dataRequired[['AT_load_actual_entsoe_power_statistics', 'AT_windspeed_10m', 'AT_temperature', 'AT_radiation_direct_horizontal', 'AT_radiation_diffuse_horizontal']]\n",
    "dataPredDemand['pred'] = dataPredDemand['AT_load_actual_entsoe_power_statistics'].shift(-1)\n",
    "dataPredDemand = dataPredDemand.dropna()\n",
    "dataPredDemand.head()"
   ]
  },
  {
   "cell_type": "code",
   "execution_count": 98,
   "metadata": {
    "colab": {
     "base_uri": "https://localhost:8080/",
     "height": 195
    },
    "colab_type": "code",
    "id": "GXhErqcBI9qV",
    "outputId": "6a1dc8f6-6122-4144-e1cd-b4d32064677d"
   },
   "outputs": [
    {
     "data": {
      "text/html": [
       "<div>\n",
       "<style scoped>\n",
       "    .dataframe tbody tr th:only-of-type {\n",
       "        vertical-align: middle;\n",
       "    }\n",
       "\n",
       "    .dataframe tbody tr th {\n",
       "        vertical-align: top;\n",
       "    }\n",
       "\n",
       "    .dataframe thead th {\n",
       "        text-align: right;\n",
       "    }\n",
       "</style>\n",
       "<table border=\"1\" class=\"dataframe\">\n",
       "  <thead>\n",
       "    <tr style=\"text-align: right;\">\n",
       "      <th></th>\n",
       "      <th>0</th>\n",
       "      <th>1</th>\n",
       "      <th>2</th>\n",
       "      <th>3</th>\n",
       "      <th>4</th>\n",
       "      <th>5</th>\n",
       "    </tr>\n",
       "  </thead>\n",
       "  <tbody>\n",
       "    <tr>\n",
       "      <th>0</th>\n",
       "      <td>0.042762</td>\n",
       "      <td>0.285083</td>\n",
       "      <td>0.178747</td>\n",
       "      <td>0.001814</td>\n",
       "      <td>0.064377</td>\n",
       "      <td>0.057277</td>\n",
       "    </tr>\n",
       "    <tr>\n",
       "      <th>1</th>\n",
       "      <td>0.057277</td>\n",
       "      <td>0.280663</td>\n",
       "      <td>0.209402</td>\n",
       "      <td>0.008767</td>\n",
       "      <td>0.186070</td>\n",
       "      <td>0.057277</td>\n",
       "    </tr>\n",
       "    <tr>\n",
       "      <th>2</th>\n",
       "      <td>0.057277</td>\n",
       "      <td>0.279558</td>\n",
       "      <td>0.242738</td>\n",
       "      <td>0.019991</td>\n",
       "      <td>0.289892</td>\n",
       "      <td>0.061985</td>\n",
       "    </tr>\n",
       "    <tr>\n",
       "      <th>3</th>\n",
       "      <td>0.061985</td>\n",
       "      <td>0.279558</td>\n",
       "      <td>0.270980</td>\n",
       "      <td>0.041160</td>\n",
       "      <td>0.364214</td>\n",
       "      <td>0.073362</td>\n",
       "    </tr>\n",
       "    <tr>\n",
       "      <th>4</th>\n",
       "      <td>0.073362</td>\n",
       "      <td>0.255249</td>\n",
       "      <td>0.289794</td>\n",
       "      <td>0.067990</td>\n",
       "      <td>0.375570</td>\n",
       "      <td>0.095724</td>\n",
       "    </tr>\n",
       "  </tbody>\n",
       "</table>\n",
       "</div>"
      ],
      "text/plain": [
       "          0         1         2         3         4         5\n",
       "0  0.042762  0.285083  0.178747  0.001814  0.064377  0.057277\n",
       "1  0.057277  0.280663  0.209402  0.008767  0.186070  0.057277\n",
       "2  0.057277  0.279558  0.242738  0.019991  0.289892  0.061985\n",
       "3  0.061985  0.279558  0.270980  0.041160  0.364214  0.073362\n",
       "4  0.073362  0.255249  0.289794  0.067990  0.375570  0.095724"
      ]
     },
     "execution_count": 98,
     "metadata": {},
     "output_type": "execute_result"
    }
   ],
   "source": [
    "scalerThree = MinMaxScaler(feature_range=(0,1))\n",
    "demandScaled = scalerThree.fit_transform(dataPredDemand.values)\n",
    "demandScaled = pd.DataFrame(windScaled)\n",
    "demandScaled.head()"
   ]
  },
  {
   "cell_type": "code",
   "execution_count": 99,
   "metadata": {
    "colab": {
     "base_uri": "https://localhost:8080/",
     "height": 225
    },
    "colab_type": "code",
    "id": "SZ9jCYq9I9vZ",
    "outputId": "64c9c5dd-5bcf-4886-948b-6feed3c6236a"
   },
   "outputs": [
    {
     "data": {
      "text/html": [
       "<div>\n",
       "<style scoped>\n",
       "    .dataframe tbody tr th:only-of-type {\n",
       "        vertical-align: middle;\n",
       "    }\n",
       "\n",
       "    .dataframe tbody tr th {\n",
       "        vertical-align: top;\n",
       "    }\n",
       "\n",
       "    .dataframe thead th {\n",
       "        text-align: right;\n",
       "    }\n",
       "</style>\n",
       "<table border=\"1\" class=\"dataframe\">\n",
       "  <thead>\n",
       "    <tr style=\"text-align: right;\">\n",
       "      <th></th>\n",
       "      <th>0</th>\n",
       "      <th>1</th>\n",
       "      <th>2</th>\n",
       "      <th>3</th>\n",
       "      <th>4</th>\n",
       "      <th>5</th>\n",
       "      <th>0</th>\n",
       "    </tr>\n",
       "    <tr>\n",
       "      <th>id</th>\n",
       "      <th></th>\n",
       "      <th></th>\n",
       "      <th></th>\n",
       "      <th></th>\n",
       "      <th></th>\n",
       "      <th></th>\n",
       "      <th></th>\n",
       "    </tr>\n",
       "  </thead>\n",
       "  <tbody>\n",
       "    <tr>\n",
       "      <th>1</th>\n",
       "      <td>0.042762</td>\n",
       "      <td>0.285083</td>\n",
       "      <td>0.178747</td>\n",
       "      <td>0.001814</td>\n",
       "      <td>0.064377</td>\n",
       "      <td>0.057277</td>\n",
       "      <td>0.061985</td>\n",
       "    </tr>\n",
       "    <tr>\n",
       "      <th>2</th>\n",
       "      <td>0.057277</td>\n",
       "      <td>0.280663</td>\n",
       "      <td>0.209402</td>\n",
       "      <td>0.008767</td>\n",
       "      <td>0.186070</td>\n",
       "      <td>0.057277</td>\n",
       "      <td>0.073362</td>\n",
       "    </tr>\n",
       "    <tr>\n",
       "      <th>3</th>\n",
       "      <td>0.057277</td>\n",
       "      <td>0.279558</td>\n",
       "      <td>0.242738</td>\n",
       "      <td>0.019991</td>\n",
       "      <td>0.289892</td>\n",
       "      <td>0.061985</td>\n",
       "      <td>0.095724</td>\n",
       "    </tr>\n",
       "    <tr>\n",
       "      <th>4</th>\n",
       "      <td>0.061985</td>\n",
       "      <td>0.279558</td>\n",
       "      <td>0.270980</td>\n",
       "      <td>0.041160</td>\n",
       "      <td>0.364214</td>\n",
       "      <td>0.073362</td>\n",
       "      <td>0.117301</td>\n",
       "    </tr>\n",
       "    <tr>\n",
       "      <th>5</th>\n",
       "      <td>0.073362</td>\n",
       "      <td>0.255249</td>\n",
       "      <td>0.289794</td>\n",
       "      <td>0.067990</td>\n",
       "      <td>0.375570</td>\n",
       "      <td>0.095724</td>\n",
       "      <td>0.128286</td>\n",
       "    </tr>\n",
       "  </tbody>\n",
       "</table>\n",
       "</div>"
      ],
      "text/plain": [
       "           0         1         2         3         4         5         0\n",
       "id                                                                      \n",
       "1   0.042762  0.285083  0.178747  0.001814  0.064377  0.057277  0.061985\n",
       "2   0.057277  0.280663  0.209402  0.008767  0.186070  0.057277  0.073362\n",
       "3   0.057277  0.279558  0.242738  0.019991  0.289892  0.061985  0.095724\n",
       "4   0.061985  0.279558  0.270980  0.041160  0.364214  0.073362  0.117301\n",
       "5   0.073362  0.255249  0.289794  0.067990  0.375570  0.095724  0.128286"
      ]
     },
     "execution_count": 99,
     "metadata": {},
     "output_type": "execute_result"
    }
   ],
   "source": [
    "arrDfDemand = seriesToSupervised(demandScaled, 3, 0)\n",
    "arrDfDemand.fillna(0, inplace = True)\n",
    "arrDfDemand.head()"
   ]
  },
  {
   "cell_type": "code",
   "execution_count": 100,
   "metadata": {
    "colab": {
     "base_uri": "https://localhost:8080/",
     "height": 34
    },
    "colab_type": "code",
    "id": "Uk5iCoOGI92R",
    "outputId": "3d8dcc9a-08ef-47ba-e6ed-6bfc1691e33d"
   },
   "outputs": [
    {
     "data": {
      "text/plain": [
       "((13989, 6), (13989,), (3495, 6), (3495,))"
      ]
     },
     "execution_count": 100,
     "metadata": {},
     "output_type": "execute_result"
    }
   ],
   "source": [
    "values = arrDfDemand.values\n",
    "trainSample = int(len(dataPredDemand)*0.8)\n",
    "train = values[: trainSample, :]\n",
    "test = values[trainSample:, :]\n",
    "XTrain, yTrain = train[:, :-1], train[:, -1]\n",
    "XTest, yTest = test[:,:-1], test[:, -1]\n",
    "XTrain.shape, yTrain.shape, XTest.shape, yTest.shape"
   ]
  },
  {
   "cell_type": "code",
   "execution_count": 101,
   "metadata": {
    "colab": {
     "base_uri": "https://localhost:8080/",
     "height": 34
    },
    "colab_type": "code",
    "id": "aX7knJAtI98c",
    "outputId": "a0b64cfc-3480-491c-8b3d-e70ab099accd"
   },
   "outputs": [
    {
     "data": {
      "text/plain": [
       "((13989, 1, 6), (13989,), (3495, 1, 6), (3495,))"
      ]
     },
     "execution_count": 101,
     "metadata": {},
     "output_type": "execute_result"
    }
   ],
   "source": [
    "XTrain = XTrain.reshape((XTrain.shape[0], 1, XTrain.shape[1]))\n",
    "XTest = XTest.reshape((XTest.shape[0], 1, XTest.shape[1]))\n",
    "XTrain.shape, yTrain.shape, XTest.shape, yTest.shape"
   ]
  },
  {
   "cell_type": "code",
   "execution_count": 102,
   "metadata": {
    "colab": {
     "base_uri": "https://localhost:8080/",
     "height": 286
    },
    "colab_type": "code",
    "id": "6Z6OL9XpI-C0",
    "outputId": "b145c7c0-fb63-4609-8b84-c6d0e5e2f373",
    "scrolled": true
   },
   "outputs": [
    {
     "name": "stdout",
     "output_type": "stream",
     "text": [
      "Model: \"sequential_6\"\n",
      "_________________________________________________________________\n",
      "Layer (type)                 Output Shape              Param #   \n",
      "=================================================================\n",
      "lstm_16 (LSTM)               (None, 1, 75)             24600     \n",
      "_________________________________________________________________\n",
      "lstm_17 (LSTM)               (None, 1, 50)             25200     \n",
      "_________________________________________________________________\n",
      "lstm_18 (LSTM)               (None, 30)                9720      \n",
      "_________________________________________________________________\n",
      "dense_6 (Dense)              (None, 1)                 31        \n",
      "=================================================================\n",
      "Total params: 59,551\n",
      "Trainable params: 59,551\n",
      "Non-trainable params: 0\n",
      "_________________________________________________________________\n"
     ]
    }
   ],
   "source": [
    "modelTwo = Sequential()\n",
    "modelTwo.add(LSTM(75, return_sequences = True, input_shape = (XTrain.shape[1], XTrain.shape[2])))\n",
    "modelTwo.add(LSTM(units = 50, return_sequences=True))\n",
    "modelTwo.add(LSTM(units = 30))\n",
    "modelTwo.add(Dense(units = 1))\n",
    "modelTwo.compile(loss = 'mae', optimizer = 'adam')\n",
    "modelTwo.summary()"
   ]
  },
  {
   "cell_type": "code",
   "execution_count": 103,
   "metadata": {
    "colab": {
     "base_uri": "https://localhost:8080/",
     "height": 1000
    },
    "colab_type": "code",
    "id": "P8dF_np9I-JE",
    "outputId": "c2387075-e2cd-470b-bc40-7078618c8665",
    "scrolled": false
   },
   "outputs": [
    {
     "name": "stdout",
     "output_type": "stream",
     "text": [
      "Train on 11191 samples, validate on 2798 samples\n",
      "Epoch 1/50\n",
      "11191/11191 [==============================] - 2s 199us/step - loss: 0.0958 - val_loss: 0.0625\n",
      "Epoch 2/50\n",
      "11191/11191 [==============================] - 1s 124us/step - loss: 0.0599 - val_loss: 0.0582\n",
      "Epoch 3/50\n",
      "11191/11191 [==============================] - 1s 127us/step - loss: 0.0573 - val_loss: 0.0562\n",
      "Epoch 4/50\n",
      "11191/11191 [==============================] - 1s 122us/step - loss: 0.0552 - val_loss: 0.0540\n",
      "Epoch 5/50\n",
      "11191/11191 [==============================] - 1s 121us/step - loss: 0.0535 - val_loss: 0.0525\n",
      "Epoch 6/50\n",
      "11191/11191 [==============================] - 1s 125us/step - loss: 0.0516 - val_loss: 0.0506\n",
      "Epoch 7/50\n",
      "11191/11191 [==============================] - 1s 127us/step - loss: 0.0504 - val_loss: 0.0508\n",
      "Epoch 8/50\n",
      "11191/11191 [==============================] - 1s 132us/step - loss: 0.0500 - val_loss: 0.0522\n",
      "Epoch 9/50\n",
      "11191/11191 [==============================] - 1s 133us/step - loss: 0.0496 - val_loss: 0.0503\n",
      "Epoch 10/50\n",
      "11191/11191 [==============================] - 2s 152us/step - loss: 0.0493 - val_loss: 0.0515\n",
      "Epoch 11/50\n",
      "11191/11191 [==============================] - 2s 160us/step - loss: 0.0491 - val_loss: 0.0510\n",
      "Epoch 12/50\n",
      "11191/11191 [==============================] - 2s 140us/step - loss: 0.0490 - val_loss: 0.0509\n",
      "Epoch 13/50\n",
      "11191/11191 [==============================] - 1s 127us/step - loss: 0.0489 - val_loss: 0.0510\n",
      "Epoch 14/50\n",
      "11191/11191 [==============================] - 1s 122us/step - loss: 0.0488 - val_loss: 0.0512\n",
      "Epoch 15/50\n",
      "11191/11191 [==============================] - 2s 138us/step - loss: 0.0486 - val_loss: 0.0501\n",
      "Epoch 16/50\n",
      "11191/11191 [==============================] - 2s 140us/step - loss: 0.0486 - val_loss: 0.0509\n",
      "Epoch 17/50\n",
      "11191/11191 [==============================] - 2s 163us/step - loss: 0.0486 - val_loss: 0.0511\n",
      "Epoch 18/50\n",
      "11191/11191 [==============================] - 2s 190us/step - loss: 0.0485 - val_loss: 0.0504\n",
      "Epoch 19/50\n",
      "11191/11191 [==============================] - 2s 211us/step - loss: 0.0483 - val_loss: 0.0504\n",
      "Epoch 20/50\n",
      "11191/11191 [==============================] - 2s 181us/step - loss: 0.0484 - val_loss: 0.0504\n",
      "Epoch 21/50\n",
      "11191/11191 [==============================] - 2s 152us/step - loss: 0.0483 - val_loss: 0.0504\n",
      "Epoch 22/50\n",
      "11191/11191 [==============================] - 1s 123us/step - loss: 0.0483 - val_loss: 0.0504\n",
      "Epoch 23/50\n",
      "11191/11191 [==============================] - 1s 123us/step - loss: 0.0482 - val_loss: 0.0508\n",
      "Epoch 24/50\n",
      "11191/11191 [==============================] - 1s 132us/step - loss: 0.0483 - val_loss: 0.0506\n",
      "Epoch 25/50\n",
      "11191/11191 [==============================] - 2s 145us/step - loss: 0.0482 - val_loss: 0.0505\n",
      "Epoch 26/50\n",
      "11191/11191 [==============================] - 2s 144us/step - loss: 0.0481 - val_loss: 0.0503\n",
      "Epoch 27/50\n",
      "11191/11191 [==============================] - 1s 117us/step - loss: 0.0481 - val_loss: 0.0502\n",
      "Epoch 28/50\n",
      "11191/11191 [==============================] - 1s 122us/step - loss: 0.0481 - val_loss: 0.0499\n",
      "Epoch 29/50\n",
      "11191/11191 [==============================] - 1s 120us/step - loss: 0.0480 - val_loss: 0.0503\n",
      "Epoch 30/50\n",
      "11191/11191 [==============================] - 1s 119us/step - loss: 0.0480 - val_loss: 0.0501\n",
      "Epoch 31/50\n",
      "11191/11191 [==============================] - 1s 118us/step - loss: 0.0480 - val_loss: 0.0500\n",
      "Epoch 32/50\n",
      "11191/11191 [==============================] - 2s 142us/step - loss: 0.0480 - val_loss: 0.0502\n",
      "Epoch 33/50\n",
      "11191/11191 [==============================] - 2s 155us/step - loss: 0.0480 - val_loss: 0.0504\n",
      "Epoch 34/50\n",
      "11191/11191 [==============================] - 2s 149us/step - loss: 0.0481 - val_loss: 0.0501\n",
      "Epoch 35/50\n",
      "11191/11191 [==============================] - 1s 132us/step - loss: 0.0479 - val_loss: 0.0501\n",
      "Epoch 36/50\n",
      "11191/11191 [==============================] - 2s 142us/step - loss: 0.0480 - val_loss: 0.0500\n",
      "Epoch 37/50\n",
      "11191/11191 [==============================] - 2s 149us/step - loss: 0.0480 - val_loss: 0.0501\n",
      "Epoch 38/50\n",
      "11191/11191 [==============================] - 2s 138us/step - loss: 0.0479 - val_loss: 0.0501\n",
      "Epoch 39/50\n",
      "11191/11191 [==============================] - 2s 145us/step - loss: 0.0480 - val_loss: 0.0501\n",
      "Epoch 40/50\n",
      "11191/11191 [==============================] - 2s 152us/step - loss: 0.0480 - val_loss: 0.0500\n",
      "Epoch 41/50\n",
      "11191/11191 [==============================] - 1s 130us/step - loss: 0.0479 - val_loss: 0.0500\n",
      "Epoch 42/50\n",
      "11191/11191 [==============================] - 2s 142us/step - loss: 0.0479 - val_loss: 0.0499\n",
      "Epoch 43/50\n",
      "11191/11191 [==============================] - 2s 146us/step - loss: 0.0478 - val_loss: 0.0499\n",
      "Epoch 44/50\n",
      "11191/11191 [==============================] - 1s 132us/step - loss: 0.0479 - val_loss: 0.0500\n",
      "Epoch 45/50\n",
      "11191/11191 [==============================] - 2s 140us/step - loss: 0.0478 - val_loss: 0.0499\n",
      "Epoch 46/50\n",
      "11191/11191 [==============================] - 1s 134us/step - loss: 0.0479 - val_loss: 0.0501\n",
      "Epoch 47/50\n",
      "11191/11191 [==============================] - 1s 133us/step - loss: 0.0479 - val_loss: 0.0498\n",
      "Epoch 48/50\n",
      "11191/11191 [==============================] - 1s 121us/step - loss: 0.0477 - val_loss: 0.0500\n",
      "Epoch 49/50\n",
      "11191/11191 [==============================] - 1s 117us/step - loss: 0.0478 - val_loss: 0.0500\n",
      "Epoch 50/50\n",
      "11191/11191 [==============================] - 1s 124us/step - loss: 0.0478 - val_loss: 0.0500\n"
     ]
    }
   ],
   "source": [
    "history = modelTwo.fit(XTrain, yTrain, epochs= 50, batch_size=32, validation_split = 0.2, shuffle = False)"
   ]
  },
  {
   "cell_type": "code",
   "execution_count": 104,
   "metadata": {
    "colab": {
     "base_uri": "https://localhost:8080/",
     "height": 67
    },
    "colab_type": "code",
    "id": "UXARNmWgI-P5",
    "outputId": "f5ecc12e-842f-4e5d-c918-fdcb11e7e124"
   },
   "outputs": [
    {
     "name": "stdout",
     "output_type": "stream",
     "text": [
      "Mean absolute error 296.75564268633417\n",
      "Mean squared error 214913.18156245243\n",
      "R2_Score 0.9298637373026922\n"
     ]
    }
   ],
   "source": [
    "#Making predictions\n",
    "yPred = modelTwo.predict(XTest)\n",
    "XTest = XTest.reshape((XTest.shape[0],XTest.shape[2]))\n",
    "invyPred = np.concatenate((yPred, XTest[:, 1:]), axis = 1)\n",
    "invyPred = scalerThree.inverse_transform(invyPred)\n",
    "invyPred = invyPred[:, 0]\n",
    "\n",
    "yTest = yTest.reshape((len(yTest), 1))\n",
    "invyTest = np.concatenate((yTest, XTest[:, 1:]), axis = 1)\n",
    "invyTest = scalerThree.inverse_transform(invyTest)\n",
    "invyTest = invyTest[:, 0]\n",
    "\n",
    "print(f'Mean absolute error {mean_absolute_error(invyTest, invyPred)}')\n",
    "print(f'Mean squared error {mean_squared_error(invyTest, invyPred)}')\n",
    "print(f'R2_Score {r2_score(invyTest, invyPred)}')"
   ]
  },
  {
   "cell_type": "code",
   "execution_count": 105,
   "metadata": {
    "colab": {
     "base_uri": "https://localhost:8080/",
     "height": 282
    },
    "colab_type": "code",
    "id": "1WjauTNhI-WB",
    "outputId": "3dba82bb-df91-4e6b-95cb-b07de43a8c12"
   },
   "outputs": [
    {
     "data": {
      "text/plain": [
       "[<matplotlib.lines.Line2D at 0x275530eddc8>]"
      ]
     },
     "execution_count": 105,
     "metadata": {},
     "output_type": "execute_result"
    },
    {
     "data": {
      "image/png": "[encoded data removed]",
      "text/plain": [
       "<Figure size 432x288 with 1 Axes>"
      ]
     },
     "metadata": {
      "needs_background": "light"
     },
     "output_type": "display_data"
    }
   ],
   "source": [
    "plt.plot(invyPred[:1000])\n",
    "plt.plot(invyTest[:1000])"
   ]
  },
  {
   "cell_type": "markdown",
   "metadata": {},
   "source": [
    "Training the model gave a 93% R2 accuracy. As seen from the graph we obtained good prediction accuracy and matching trends."
   ]
  },
  {
   "cell_type": "markdown",
   "metadata": {
    "colab_type": "text",
    "id": "wZRSkWcOI-39"
   },
   "source": [
    "# The simulation cum forecasting model\n"
   ]
  },
  {
   "cell_type": "code",
   "execution_count": 106,
   "metadata": {
    "colab": {
     "base_uri": "https://localhost:8080/",
     "height": 34
    },
    "colab_type": "code",
    "id": "blcIUKi8I_EZ",
    "outputId": "c377a0d3-262f-4c4c-d6e0-e3c29341fefa"
   },
   "outputs": [
    {
     "data": {
      "text/plain": [
       "((3495, 1, 6), (3495,))"
      ]
     },
     "execution_count": 106,
     "metadata": {},
     "output_type": "execute_result"
    }
   ],
   "source": [
    "#Demand model input\n",
    "values = arrDfDemand.values\n",
    "trainSample = int(len(dataPredDemand)*0.8)\n",
    "testDemand = values[trainSample:, :]\n",
    "XTestDemand, yTestDemand = testDemand[:,:-1], testDemand[:, -1]\n",
    "XTestDemand = XTestDemand.reshape((XTestDemand.shape[0], 1, XTestDemand.shape[1]))\n",
    "XTestDemand.shape, yTestDemand.shape"
   ]
  },
  {
   "cell_type": "code",
   "execution_count": 107,
   "metadata": {
    "colab": {},
    "colab_type": "code",
    "id": "HOe1302mI_Kz"
   },
   "outputs": [],
   "source": [
    "#The test demand shall be split into 24 hour intervals:\n",
    "#yPredDemand = modelTwo.predict(XTestDemand)\n",
    "#XTestDemand = XTestDemand.reshape((XTestDemand.shape[0],XTestDemand.shape[2]))\n",
    "#invyPredDemand = np.concatenate((yPredDemand, XTestDemand[:, 1:]), axis = 1)\n",
    "#invyPredDemand = scalerThree.inverse_transform(invyPredDemand)\n",
    "#invyPredDemand = invyPredDemand[:, 0]\n",
    "#yTestDemand = yTestDemand.reshape((len(yTestDemand), 1))\n",
    "#invyTestDemand = np.concatenate((yTestDemand, XTestDemand[:, 1:]), axis = 1)\n",
    "#invyTestDemand = scalerThree.inverse_transform(invyTestDemand)\n",
    "#invyTestDemand = invyTestDemand[:, 0]"
   ]
  },
  {
   "cell_type": "code",
   "execution_count": 108,
   "metadata": {
    "colab": {
     "base_uri": "https://localhost:8080/",
     "height": 34
    },
    "colab_type": "code",
    "id": "w2jv8-CqI_R3",
    "outputId": "e4482c0e-fcc4-4c30-858e-73459bc4b630"
   },
   "outputs": [
    {
     "data": {
      "text/plain": [
       "((3495, 1, 6), (3495,))"
      ]
     },
     "execution_count": 108,
     "metadata": {},
     "output_type": "execute_result"
    }
   ],
   "source": [
    "#Wind Energy supply\n",
    "values = arrDfWind.values\n",
    "trainSample = int(len(dataPredWindOutput)*0.8)\n",
    "testWind = values[trainSample:, :]\n",
    "XTestWind, yTestWind = testWind[:,:-1], testWind[:, -1]\n",
    "XTestWind = XTestWind.reshape((XTestWind.shape[0], 1, XTestWind.shape[1]))\n",
    "XTestWind.shape, yTestWind.shape"
   ]
  },
  {
   "cell_type": "code",
   "execution_count": 109,
   "metadata": {
    "colab": {},
    "colab_type": "code",
    "id": "La0v3bY7I_Ya"
   },
   "outputs": [],
   "source": [
    "# #The test wind shall be split into 24 hours\n",
    "# yPredWind = modelOne.predict(XTestWind)\n",
    "# XTestWind = XTestWind.reshape((XTestWind.shape[0],XTestWind.shape[2]))\n",
    "# invyPredWind = np.concatenate((yPredWind, XTestWind[:, 1:]), axis = 1)\n",
    "# invyPredWind = scalerTwo.inverse_transform(invyPredWind)\n",
    "# invyPredWind = invyPredWind[:, 0]\n",
    "\n",
    "# yTestWind = yTestWind.reshape((len(yTestWind), 1))\n",
    "# invyTestWind = np.concatenate((yTestWind, XTestWind[:, 1:]), axis = 1)\n",
    "# invyTestWind = scalerTwo.inverse_transform(invyTestWind)\n",
    "# invyTestWind = invyTestWind[:, 0]"
   ]
  },
  {
   "cell_type": "code",
   "execution_count": 110,
   "metadata": {
    "colab": {
     "base_uri": "https://localhost:8080/",
     "height": 34
    },
    "colab_type": "code",
    "id": "269aCzVHI_f7",
    "outputId": "5561d32f-0818-4697-f28f-c58d9bc95038"
   },
   "outputs": [
    {
     "data": {
      "text/plain": [
       "((3495, 1, 6), (3495,))"
      ]
     },
     "execution_count": 110,
     "metadata": {},
     "output_type": "execute_result"
    }
   ],
   "source": [
    "#Solar Energy supply\n",
    "values = arrDfSolar.values\n",
    "trainSample = int(len(dataPredSolarOutput)*0.8)\n",
    "testSolar = values[trainSample:, :]\n",
    "XTestSolar, yTestSolar = testSolar[:,:-1], testSolar[:, -1]\n",
    "XTestSolar = XTestSolar.reshape((XTestSolar.shape[0], 1, XTestSolar.shape[1]))\n",
    "XTestSolar.shape, yTestSolar.shape"
   ]
  },
  {
   "cell_type": "code",
   "execution_count": 111,
   "metadata": {
    "colab": {},
    "colab_type": "code",
    "id": "ZgCw-0KbI_mS"
   },
   "outputs": [],
   "source": [
    "# #The test solar shall be split into 24 hour intervals\n",
    "# yPredSolar = model.predict(XTestSolar)\n",
    "# XTestSolar = XTestSolar.reshape((XTestSolar.shape[0],XTestSolar.shape[2]))\n",
    "# invyPredSolar = np.concatenate((yPredSolar, XTestSolar[:, 1:]), axis = 1)\n",
    "# invyPredSolar = scalerOne.inverse_transform(invyPredSolar)\n",
    "# invyPredSolar = invyPredSolar[:, 0]\n",
    "\n",
    "# yTestSolar = yTestSolar.reshape((len(yTestSolar), 1))\n",
    "# invyTestSolar = np.concatenate((yTestSolar, XTestSolar[:, 1:]), axis = 1)\n",
    "# invyTestSolar = scalerOne.inverse_transform(invyTestSolar)\n",
    "# invyTestSolar = invyTestSolar[:, 0]"
   ]
  },
  {
   "cell_type": "code",
   "execution_count": 112,
   "metadata": {
    "colab": {
     "base_uri": "https://localhost:8080/",
     "height": 34
    },
    "colab_type": "code",
    "id": "v9YZKmGJI_tO",
    "outputId": "21f0fc33-46d0-40ef-8621-048cffa9981f"
   },
   "outputs": [
    {
     "data": {
      "text/plain": [
       "((3495, 1, 6), (3495, 1, 6), (3495, 1, 6))"
      ]
     },
     "execution_count": 112,
     "metadata": {},
     "output_type": "execute_result"
    }
   ],
   "source": [
    "XTestSolar.shape, XTestDemand.shape, XTestWind.shape"
   ]
  },
  {
   "cell_type": "code",
   "execution_count": 113,
   "metadata": {
    "colab": {},
    "colab_type": "code",
    "id": "SWvlJd5SMVez"
   },
   "outputs": [],
   "source": [
    "def weightMatrix():\n",
    "  array = []\n",
    "  for i in range(99):\n",
    "    array.append(1/(10+5*i))\n",
    "  array.append(1-sum(array))\n",
    "  return array"
   ]
  },
  {
   "cell_type": "code",
   "execution_count": 114,
   "metadata": {
    "colab": {},
    "colab_type": "code",
    "id": "dYRWgm8YQJRj"
   },
   "outputs": [
    {
     "data": {
      "text/plain": [
       "[0.1,\n",
       " 0.06666666666666667,\n",
       " 0.05,\n",
       " 0.04,\n",
       " 0.03333333333333333,\n",
       " 0.02857142857142857,\n",
       " 0.025,\n",
       " 0.022222222222222223,\n",
       " 0.02,\n",
       " 0.01818181818181818,\n",
       " 0.016666666666666666,\n",
       " 0.015384615384615385,\n",
       " 0.014285714285714285,\n",
       " 0.013333333333333334,\n",
       " 0.0125,\n",
       " 0.011764705882352941,\n",
       " 0.011111111111111112,\n",
       " 0.010526315789473684,\n",
       " 0.01,\n",
       " 0.009523809523809525,\n",
       " 0.00909090909090909,\n",
       " 0.008695652173913044,\n",
       " 0.008333333333333333,\n",
       " 0.008,\n",
       " 0.007692307692307693,\n",
       " 0.007407407407407408,\n",
       " 0.007142857142857143,\n",
       " 0.006896551724137931,\n",
       " 0.006666666666666667,\n",
       " 0.0064516129032258064,\n",
       " 0.00625,\n",
       " 0.006060606060606061,\n",
       " 0.0058823529411764705,\n",
       " 0.005714285714285714,\n",
       " 0.005555555555555556,\n",
       " 0.005405405405405406,\n",
       " 0.005263157894736842,\n",
       " 0.005128205128205128,\n",
       " 0.005,\n",
       " 0.004878048780487805,\n",
       " 0.004761904761904762,\n",
       " 0.004651162790697674,\n",
       " 0.004545454545454545,\n",
       " 0.0044444444444444444,\n",
       " 0.004347826086956522,\n",
       " 0.00425531914893617,\n",
       " 0.004166666666666667,\n",
       " 0.004081632653061225,\n",
       " 0.004,\n",
       " 0.00392156862745098,\n",
       " 0.0038461538461538464,\n",
       " 0.0037735849056603774,\n",
       " 0.003703703703703704,\n",
       " 0.0036363636363636364,\n",
       " 0.0035714285714285713,\n",
       " 0.0035087719298245615,\n",
       " 0.0034482758620689655,\n",
       " 0.003389830508474576,\n",
       " 0.0033333333333333335,\n",
       " 0.003278688524590164,\n",
       " 0.0032258064516129032,\n",
       " 0.0031746031746031746,\n",
       " 0.003125,\n",
       " 0.003076923076923077,\n",
       " 0.0030303030303030303,\n",
       " 0.0029850746268656717,\n",
       " 0.0029411764705882353,\n",
       " 0.002898550724637681,\n",
       " 0.002857142857142857,\n",
       " 0.0028169014084507044,\n",
       " 0.002777777777777778,\n",
       " 0.0027397260273972603,\n",
       " 0.002702702702702703,\n",
       " 0.0026666666666666666,\n",
       " 0.002631578947368421,\n",
       " 0.0025974025974025974,\n",
       " 0.002564102564102564,\n",
       " 0.002531645569620253,\n",
       " 0.0025,\n",
       " 0.0024691358024691358,\n",
       " 0.0024390243902439024,\n",
       " 0.0024096385542168677,\n",
       " 0.002380952380952381,\n",
       " 0.002352941176470588,\n",
       " 0.002325581395348837,\n",
       " 0.0022988505747126436,\n",
       " 0.0022727272727272726,\n",
       " 0.0022471910112359553,\n",
       " 0.0022222222222222222,\n",
       " 0.002197802197802198,\n",
       " 0.002173913043478261,\n",
       " 0.002150537634408602,\n",
       " 0.002127659574468085,\n",
       " 0.002105263157894737,\n",
       " 0.0020833333333333333,\n",
       " 0.002061855670103093,\n",
       " 0.0020408163265306124,\n",
       " 0.00202020202020202,\n",
       " 0.002,\n",
       " 0.16252449647207634]"
      ]
     },
     "execution_count": 114,
     "metadata": {},
     "output_type": "execute_result"
    }
   ],
   "source": [
    "weighs = weightMatrix()\n",
    "weighs"
   ]
  },
  {
   "cell_type": "code",
   "execution_count": 115,
   "metadata": {},
   "outputs": [],
   "source": [
    "for i in range(124):\n",
    "  XTestSolarHour = XTestSolar[24*i:24*(i+1)]\n",
    "  XTestWindHour = XTestWind[24*i:24*(i+1)]\n",
    "  XTestDemandHour = XTestDemand[24*i:24*(i+1)]"
   ]
  },
  {
   "cell_type": "code",
   "execution_count": 116,
   "metadata": {},
   "outputs": [],
   "source": [
    "#To be called at every 24 hour distribution, generates the demand supply distribution\n",
    "def dataGenerator(XTestSolarHour, XTestWindHour, XTestDemandHour, weighs):\n",
    "  #Solar Energy generation\n",
    "  yPredSolar = model.predict(XTestSolarHour)\n",
    "  XTestSolarHour = XTestSolarHour.reshape((XTestSolarHour.shape[0],XTestSolarHour.shape[2]))\n",
    "  invyPredSolar = np.concatenate((yPredSolar, XTestSolarHour[:, 1:]), axis = 1)\n",
    "  invyPredSolar = scalerOne.inverse_transform(invyPredSolar)\n",
    "  invyPredSolar = invyPredSolar[:, 0]\n",
    "\n",
    "  # yTestSolar = yTestSolar.reshape((len(yTestSolar), 1))\n",
    "  # invyTestSolar = np.concatenate((yTestSolar, XTestSolar[:, 1:]), axis = 1)\n",
    "  # invyTestSolar = scalerOne.inverse_transform(invyTestSolar)\n",
    "  # invyTestSolar = invyTestSolar[:, 0]\n",
    "\n",
    "  #Wind Energy Generation\n",
    "  yPredWind = modelOne.predict(XTestWindHour)\n",
    "  XTestWindHour = XTestWindHour.reshape((XTestWindHour.shape[0],XTestWindHour.shape[2]))\n",
    "  invyPredWind = np.concatenate((yPredWind, XTestWindHour[:, 1:]), axis = 1)\n",
    "  invyPredWind = scalerTwo.inverse_transform(invyPredWind)\n",
    "  invyPredWind = invyPredWind[:, 0]\n",
    "\n",
    "  # yTestWind = yTestWind.reshape((len(yTestWind), 1))\n",
    "  # invyTestWind = np.concatenate((yTestWind, XTestWind[:, 1:]), axis = 1)\n",
    "  # invyTestWind = scalerTwo.inverse_transform(invyTestWind)\n",
    "  # invyTestWind = invyTestWind[:, 0]\n",
    "\n",
    "  #Demand\n",
    "  yPredDemand = modelTwo.predict(XTestDemandHour)\n",
    "  XTestDemandHour = XTestDemandHour.reshape((XTestDemandHour.shape[0],XTestDemandHour.shape[2]))\n",
    "  invyPredDemand = np.concatenate((yPredDemand, XTestDemandHour[:, 1:]), axis = 1)\n",
    "  invyPredDemand = scalerThree.inverse_transform(invyPredDemand)\n",
    "  invyPredDemand = invyPredDemand[:, 0]\n",
    "    \n",
    "  # yTestDemand = yTestDemand.reshape((len(yTestDemand), 1))\n",
    "  # invyTestDemand = np.concatenate((yTestDemand, XTestDemand[:, 1:]), axis = 1)\n",
    "  # invyTestDemand = scalerThree.inverse_transform(invyTestDemand)\n",
    "  # invyTestDemand = invyTestDemand[:, 0]\n",
    "\n",
    "  #Elastic and Inelastic demand\n",
    "  invyPredDemandInElastic = 0.7*invyPredDemand\n",
    "  invyPredDemandElastic = 0.3*invyPredDemand\n",
    "  elasticDemandSum = np.sum(invyPredDemandElastic)\n",
    "\n",
    "  #Renewable energy output\n",
    "  renewableEnergyOutput = invyPredSolar + invyPredWind\n",
    "\n",
    "  #Splitting the above into different prosumers according to a schema, of course in real life, with more computational power\n",
    "  #One can train separately for each prosumer\n",
    "  arrayinvyPredDemandInelastic = np.outer(np.array(weighs), np.array(invyPredDemandInElastic))\n",
    "  arrayRenewableEnergyOutput = np.outer(np.array(weighs), np.array(renewableEnergyOutput))\n",
    "  arrayElasticDemandSum = np.array(weighs)*elasticDemandSum\n",
    "\n",
    "  #returns\n",
    "\n",
    "  return arrayinvyPredDemandInelastic, arrayRenewableEnergyOutput, arrayElasticDemandSum"
   ]
  },
  {
   "cell_type": "code",
   "execution_count": 117,
   "metadata": {},
   "outputs": [
    {
     "data": {
      "text/plain": [
       "((100, 24), (100, 24), (100,))"
      ]
     },
     "execution_count": 117,
     "metadata": {},
     "output_type": "execute_result"
    }
   ],
   "source": [
    "P, W, E = dataGenerator(XTestSolarHour, XTestWindHour, XTestDemandHour, weighs)\n",
    "P.shape, W.shape, E.shape"
   ]
  },
  {
   "cell_type": "code",
   "execution_count": 118,
   "metadata": {},
   "outputs": [
    {
     "data": {
      "text/plain": [
       "8845.921310069756"
      ]
     },
     "execution_count": 118,
     "metadata": {},
     "output_type": "execute_result"
    }
   ],
   "source": [
    "np.max(E)"
   ]
  },
  {
   "cell_type": "code",
   "execution_count": 119,
   "metadata": {},
   "outputs": [
    {
     "data": {
      "text/plain": [
       "(100, 24)"
      ]
     },
     "execution_count": 119,
     "metadata": {},
     "output_type": "execute_result"
    }
   ],
   "source": [
    "EMod = np.hstack([E]*24).reshape((100,24))\n",
    "EMod.shape"
   ]
  },
  {
   "cell_type": "code",
   "execution_count": 120,
   "metadata": {},
   "outputs": [],
   "source": [
    "eMinValues = np.zeros((100, 24))\n",
    "eMaxValues = EMod/12"
   ]
  },
  {
   "cell_type": "code",
   "execution_count": 121,
   "metadata": {},
   "outputs": [],
   "source": [
    "#The Scheduling function\n",
    "from cvxpy import *\n",
    "def schedulingFunction(PValues, WValues, EValues, eMaxValues, eMinValues):\n",
    "  e = Variable((100, 24))\n",
    "  P = Parameter((100, 24))\n",
    "  W = Parameter((100, 24))\n",
    "  P.value = PValues\n",
    "  W.value = WValues\n",
    "  d = P+e-W\n",
    "  dSum = sum(d, axis = 0)\n",
    "  ramp = diff(dSum)\n",
    "  \n",
    "  cost = norm(ramp, 'inf')\n",
    "  obj = Minimize(cost)\n",
    "  #constraints = [eMinValues <= e, e<= eMaxValues, sum(e) == EValues] # INFEASIBLE\n",
    "  #constraints = [eMinValues <= e, e<= eMaxValues, sum(e) >= 0.9*EValues]      WORKS!!!!\n",
    "  constraints = [eMinValues <= e, e<= eMaxValues, sum(e) >= 0.9*EValues]\n",
    "  prob = Problem(obj, constraints)\n",
    "  optValue = prob.solve()\n",
    "  print (prob.status)\n",
    "  solutionElasticDemand = e.value\n",
    "  return np.array(solutionElasticDemand)"
   ]
  },
  {
   "cell_type": "code",
   "execution_count": 122,
   "metadata": {},
   "outputs": [
    {
     "name": "stdout",
     "output_type": "stream",
     "text": [
      "optimal_inaccurate\n"
     ]
    }
   ],
   "source": [
    "result = schedulingFunction(P, W, E, 2*eMaxValues, eMinValues)"
   ]
  },
  {
   "cell_type": "code",
   "execution_count": 123,
   "metadata": {},
   "outputs": [
    {
     "name": "stdout",
     "output_type": "stream",
     "text": [
      "[[30.32671401 33.67122637 32.27159614 ... 18.53619834 16.82875489\n",
      "  15.11369182]\n",
      " [20.06159734 21.03533092 20.24256393 ... 13.51940083 12.74657913\n",
      "  11.60500766]\n",
      " [13.95516866 14.14974969 13.74125046 ... 10.31535017  9.96798434\n",
      "   9.15636733]\n",
      " ...\n",
      " [18.78015339 19.54382536 18.84024172 ... 12.88492933 12.21000739\n",
      "  11.13292279]\n",
      " [13.22834848 13.37116964 13.00247474 ...  9.90106844  9.59492354\n",
      "   8.82782989]\n",
      " [ 9.95428025  9.96670156  9.75798797 ...  7.920999    7.76630255\n",
      "  19.81949735]]\n"
     ]
    }
   ],
   "source": [
    "print(result)"
   ]
  },
  {
   "cell_type": "markdown",
   "metadata": {
    "colab_type": "text",
    "id": "7nKkxVNjr6OG"
   },
   "source": [
    "**RAMPING OF SUPPLY OF GENERATORS USING CONVENTIONAL SOURCES** "
   ]
  },
  {
   "cell_type": "code",
   "execution_count": 124,
   "metadata": {
    "colab": {
     "base_uri": "https://localhost:8080/",
     "height": 286
    },
    "colab_type": "code",
    "id": "LHLRh-LZJAji",
    "outputId": "5b11d61b-9ce2-407b-97d7-02790171b2a2"
   },
   "outputs": [
    {
     "data": {
      "text/plain": [
       "[<matplotlib.lines.Line2D at 0x275514e4d08>]"
      ]
     },
     "execution_count": 124,
     "metadata": {},
     "output_type": "execute_result"
    },
    {
     "data": {
      "image/png": "[encoded data removed]",
      "text/plain": [
       "<Figure size 432x288 with 1 Axes>"
      ]
     },
     "metadata": {
      "needs_background": "light"
     },
     "output_type": "display_data"
    }
   ],
   "source": [
    "plt.plot(np.diff(np.array(P+result-W)[10]))"
   ]
  },
  {
   "cell_type": "markdown",
   "metadata": {
    "colab_type": "text",
    "id": "pa4GLWK4vlnn"
   },
   "source": [
    "**INELASTIC DEMAND**"
   ]
  },
  {
   "cell_type": "code",
   "execution_count": 125,
   "metadata": {
    "colab": {
     "base_uri": "https://localhost:8080/",
     "height": 282
    },
    "colab_type": "code",
    "id": "WmhBuCgKJA-z",
    "outputId": "18be9902-d201-4a5b-f1fb-51dad13b2bfc"
   },
   "outputs": [
    {
     "data": {
      "text/plain": [
       "[<matplotlib.lines.Line2D at 0x27551bc5948>]"
      ]
     },
     "execution_count": 125,
     "metadata": {},
     "output_type": "execute_result"
    },
    {
     "data": {
      "image/png": "[encoded data removed]",
      "text/plain": [
       "<Figure size 432x288 with 1 Axes>"
      ]
     },
     "metadata": {
      "needs_background": "light"
     },
     "output_type": "display_data"
    }
   ],
   "source": [
    "plt.plot(P[10])"
   ]
  },
  {
   "cell_type": "markdown",
   "metadata": {
    "colab_type": "text",
    "id": "_yMIun6mvqYj"
   },
   "source": [
    "**ELASTIC DEMAND ALLOCATED**"
   ]
  },
  {
   "cell_type": "code",
   "execution_count": 126,
   "metadata": {
    "colab": {
     "base_uri": "https://localhost:8080/",
     "height": 282
    },
    "colab_type": "code",
    "id": "upIxjT0pJBEr",
    "outputId": "98e27dac-8650-44ae-f158-60dccd735e0e"
   },
   "outputs": [
    {
     "data": {
      "text/plain": [
       "[<matplotlib.lines.Line2D at 0x27551cdf148>]"
      ]
     },
     "execution_count": 126,
     "metadata": {},
     "output_type": "execute_result"
    },
    {
     "data": {
      "image/png": "[encoded data removed]",
      "text/plain": [
       "<Figure size 432x288 with 1 Axes>"
      ]
     },
     "metadata": {
      "needs_background": "light"
     },
     "output_type": "display_data"
    }
   ],
   "source": [
    "plt.plot(result[10])"
   ]
  },
  {
   "cell_type": "markdown",
   "metadata": {
    "colab_type": "text",
    "id": "jT81UwgfvvtY"
   },
   "source": [
    "**POWER SUPPLIED BY CONVENTIONAL SOURCES**"
   ]
  },
  {
   "cell_type": "code",
   "execution_count": 127,
   "metadata": {
    "colab": {
     "base_uri": "https://localhost:8080/",
     "height": 282
    },
    "colab_type": "code",
    "id": "uBGQ_IERJBL8",
    "outputId": "10d73c53-4b7a-4f01-f6f9-fb1b8adb8ef3"
   },
   "outputs": [
    {
     "data": {
      "text/plain": [
       "[<matplotlib.lines.Line2D at 0x2755319d808>]"
      ]
     },
     "execution_count": 127,
     "metadata": {},
     "output_type": "execute_result"
    },
    {
     "data": {
      "image/png": "[encoded data removed]",
      "text/plain": [
       "<Figure size 432x288 with 1 Axes>"
      ]
     },
     "metadata": {
      "needs_background": "light"
     },
     "output_type": "display_data"
    }
   ],
   "source": [
    "plt.plot((P+result-W)[10])"
   ]
  },
  {
   "cell_type": "markdown",
   "metadata": {
    "colab_type": "text",
    "id": "EqLNpwqQv1UE"
   },
   "source": [
    "**RENEWABLE ENERGY SUPPLIED**"
   ]
  },
  {
   "cell_type": "code",
   "execution_count": 128,
   "metadata": {
    "colab": {
     "base_uri": "https://localhost:8080/",
     "height": 283
    },
    "colab_type": "code",
    "id": "eGq3MchkJBSq",
    "outputId": "317e5c3f-57e7-4215-fc97-7f70a8989f41"
   },
   "outputs": [
    {
     "data": {
      "text/plain": [
       "[<matplotlib.lines.Line2D at 0x275502cd648>]"
      ]
     },
     "execution_count": 128,
     "metadata": {},
     "output_type": "execute_result"
    },
    {
     "data": {
      "image/png": "[encoded data removed]",
      "text/plain": [
       "<Figure size 432x288 with 1 Axes>"
      ]
     },
     "metadata": {
      "needs_background": "light"
     },
     "output_type": "display_data"
    }
   ],
   "source": [
    "plt.plot(W[10])"
   ]
  },
  {
   "cell_type": "markdown",
   "metadata": {},
   "source": [
    "#### INELASTIC DEMAND OF THE FIRST 20 PROSUMERS OVER 24 HOURS"
   ]
  },
  {
   "cell_type": "code",
   "execution_count": 129,
   "metadata": {},
   "outputs": [
    {
     "data": {
      "image/png": "[encoded data removed]",
      "text/plain": [
       "<Figure size 432x288 with 1 Axes>"
      ]
     },
     "metadata": {
      "needs_background": "light"
     },
     "output_type": "display_data"
    }
   ],
   "source": [
    "for i in range(20):\n",
    "  plt.plot(P[i])"
   ]
  },
  {
   "cell_type": "code",
   "execution_count": 130,
   "metadata": {},
   "outputs": [
    {
     "data": {
      "text/plain": [
       "<matplotlib.legend.Legend at 0x27552fd9d48>"
      ]
     },
     "execution_count": 130,
     "metadata": {},
     "output_type": "execute_result"
    },
    {
     "data": {
      "image/png": "[encoded data removed]",
      "text/plain": [
       "<Figure size 432x288 with 1 Axes>"
      ]
     },
     "metadata": {
      "needs_background": "light"
     },
     "output_type": "display_data"
    }
   ],
   "source": [
    "plt.plot(np.diff(np.array(P+result-W)[10]))\n",
    "plt.plot(P[10])\n",
    "plt.plot(result[10])\n",
    "plt.plot((P+result-W)[10])\n",
    "plt.plot(W[10])\n",
    "plt.legend(['Conventional Ramp', 'Inelastic', 'Elastic', 'Conventional', 'Renewable'])"
   ]
  },
  {
   "cell_type": "code",
   "execution_count": null,
   "metadata": {},
   "outputs": [],
   "source": []
  }
 ],
 "metadata": {
  "colab": {
   "name": "demandSupplyForecastingNearComplete (1).ipynb",
   "provenance": [],
   "toc_visible": true
  },
  "kernelspec": {
   "display_name": "Python 3",
   "language": "python",
   "name": "python3"
  },
  "language_info": {
   "codemirror_mode": {
    "name": "ipython",
    "version": 3
   },
   "file_extension": ".py",
   "mimetype": "text/x-python",
   "name": "python",
   "nbconvert_exporter": "python",
   "pygments_lexer": "ipython3",
   "version": "3.7.7"
  }
 },
 "nbformat": 4,
 "nbformat_minor": 1
}
